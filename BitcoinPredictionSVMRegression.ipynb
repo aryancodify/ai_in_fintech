{
 "cells": [
  {
   "cell_type": "code",
   "execution_count": 1,
   "metadata": {},
   "outputs": [],
   "source": [
    "import numpy as np\n",
    "import pandas as pd\n",
    "from sklearn.svm import SVR\n",
    "import matplotlib.pyplot as plt\n",
    "from sklearn.metrics import accuracy_score"
   ]
  },
  {
   "cell_type": "code",
   "execution_count": 2,
   "metadata": {},
   "outputs": [],
   "source": [
    "btc = pd.read_csv(\"/crypto_data/bitcoin_price.csv\")"
   ]
  },
  {
   "cell_type": "code",
   "execution_count": 3,
   "metadata": {},
   "outputs": [
    {
     "name": "stdout",
     "output_type": "stream",
     "text": [
      "<class 'pandas.core.frame.DataFrame'>\n",
      "RangeIndex: 1655 entries, 0 to 1654\n",
      "Data columns (total 7 columns):\n",
      "Date          1655 non-null object\n",
      "Open          1655 non-null float64\n",
      "High          1655 non-null float64\n",
      "Low           1655 non-null float64\n",
      "Close         1655 non-null float64\n",
      "Volume        1655 non-null object\n",
      "Market Cap    1655 non-null object\n",
      "dtypes: float64(4), object(3)\n",
      "memory usage: 90.6+ KB\n"
     ]
    }
   ],
   "source": [
    "btc.info()"
   ]
  },
  {
   "cell_type": "code",
   "execution_count": 4,
   "metadata": {},
   "outputs": [],
   "source": [
    "btc['Date'] = pd.to_datetime(btc['Date'])     \n",
    "btc['date_delta'] = (btc['Date'] - btc['Date'].min())  / np.timedelta64(1,'D')"
   ]
  },
  {
   "cell_type": "code",
   "execution_count": 5,
   "metadata": {},
   "outputs": [],
   "source": [
    "btc_select=btc[['date_delta','Close']]"
   ]
  },
  {
   "cell_type": "code",
   "execution_count": 6,
   "metadata": {
    "scrolled": false
   },
   "outputs": [
    {
     "data": {
      "text/html": [
       "<div>\n",
       "<style scoped>\n",
       "    .dataframe tbody tr th:only-of-type {\n",
       "        vertical-align: middle;\n",
       "    }\n",
       "\n",
       "    .dataframe tbody tr th {\n",
       "        vertical-align: top;\n",
       "    }\n",
       "\n",
       "    .dataframe thead th {\n",
       "        text-align: right;\n",
       "    }\n",
       "</style>\n",
       "<table border=\"1\" class=\"dataframe\">\n",
       "  <thead>\n",
       "    <tr style=\"text-align: right;\">\n",
       "      <th></th>\n",
       "      <th>date_delta</th>\n",
       "      <th>Close</th>\n",
       "    </tr>\n",
       "  </thead>\n",
       "  <tbody>\n",
       "    <tr>\n",
       "      <th>0</th>\n",
       "      <td>1654.0</td>\n",
       "      <td>7144.38</td>\n",
       "    </tr>\n",
       "    <tr>\n",
       "      <th>1</th>\n",
       "      <td>1653.0</td>\n",
       "      <td>7022.76</td>\n",
       "    </tr>\n",
       "    <tr>\n",
       "      <th>2</th>\n",
       "      <td>1652.0</td>\n",
       "      <td>7407.41</td>\n",
       "    </tr>\n",
       "    <tr>\n",
       "      <th>3</th>\n",
       "      <td>1651.0</td>\n",
       "      <td>7379.95</td>\n",
       "    </tr>\n",
       "    <tr>\n",
       "      <th>4</th>\n",
       "      <td>1650.0</td>\n",
       "      <td>7207.76</td>\n",
       "    </tr>\n",
       "  </tbody>\n",
       "</table>\n",
       "</div>"
      ],
      "text/plain": [
       "   date_delta    Close\n",
       "0      1654.0  7144.38\n",
       "1      1653.0  7022.76\n",
       "2      1652.0  7407.41\n",
       "3      1651.0  7379.95\n",
       "4      1650.0  7207.76"
      ]
     },
     "execution_count": 6,
     "metadata": {},
     "output_type": "execute_result"
    }
   ],
   "source": [
    "btc_select.head()"
   ]
  },
  {
   "cell_type": "code",
   "execution_count": 7,
   "metadata": {},
   "outputs": [],
   "source": [
    "msk = np.random.rand(len(btc_select)) < 0.8\n",
    "btc_train = btc_select[msk]\n",
    "btc_test = btc_select[~msk]"
   ]
  },
  {
   "cell_type": "code",
   "execution_count": 8,
   "metadata": {},
   "outputs": [],
   "source": [
    "from sklearn.preprocessing import MinMaxScaler\n",
    "scaler = MinMaxScaler()\n",
    "scaler.fit(btc_train)\n",
    "btc_train = scaler.transform(btc_train)\n",
    "btc_test = scaler.transform(btc_test)"
   ]
  },
  {
   "cell_type": "code",
   "execution_count": 9,
   "metadata": {},
   "outputs": [
    {
     "data": {
      "text/plain": [
       "(1329, 2)"
      ]
     },
     "execution_count": 9,
     "metadata": {},
     "output_type": "execute_result"
    }
   ],
   "source": [
    "btc_train.shape"
   ]
  },
  {
   "cell_type": "code",
   "execution_count": 10,
   "metadata": {},
   "outputs": [],
   "source": [
    "from sklearn.model_selection import cross_val_score, cross_val_predict\n",
    "from sklearn import metrics"
   ]
  },
  {
   "cell_type": "code",
   "execution_count": 11,
   "metadata": {},
   "outputs": [],
   "source": [
    "def predict_prices(dates_train, prices_train, dates_test, price_test):\n",
    "    dates_train=np.reshape(dates_train, (len(dates_train),1))\n",
    "    dates_test=np.reshape(dates_test, (len(dates_test),1))\n",
    "    svr_lin = SVR(kernel='linear', C=1e3)\n",
    "    svr_poly = SVR(kernel = 'poly', C=1e3, degree=8)\n",
    "    svr_rbf = SVR(kernel='rbf', C=1e3, gamma=0.8)\n",
    "    svr_lin.fit(dates_train,prices_train)\n",
    "    svr_poly.fit(dates_train,prices_train)\n",
    "    svr_rbf.fit(dates_train,prices_train)\n",
    "    plt.figure(figsize=(14,10))\n",
    "    plt.scatter(dates_train, prices_train, color='black', label='Data')\n",
    "    plt.plot(dates_train, svr_rbf.predict(dates_train), color='red', label='RBF model')\n",
    "    plt.plot(dates_train, svr_lin.predict(dates_train), color='green', label='Linear model')\n",
    "    plt.plot(dates_train, svr_poly.predict(dates_train), color='blue', label='Polynomial model')\n",
    "    plt.xlabel('Date')\n",
    "    plt.ylabel('Price')\n",
    "    plt.title('Support Vector Regression')\n",
    "    plt.legend()\n",
    "    plt.show()\n",
    "    print('Lin Score:', svr_lin.score(dates_test, price_test))\n",
    "    print('Poly Score:', svr_poly.score(dates_test, price_test))\n",
    "    print('Rbf Score:', svr_rbf.score(dates_test, price_test))\n",
    "    scores = cross_val_score(svr_poly, dates_train, prices_train, cv=6, scoring='neg_mean_squared_error')\n",
    "    accuracy = metrics.r2_score(price_test, svr_poly.predict(dates_test))\n",
    "    print('R-Squared Value for the Polynomial Kernel:', accuracy)\n",
    "    print('Cross Validation Mean Squared Error for the Polynomial Kernel:', scores)\n",
    "    return svr_poly"
   ]
  },
  {
   "cell_type": "code",
   "execution_count": 12,
   "metadata": {},
   "outputs": [
    {
     "data": {
      "image/png": "[encoded data removed]",
      "text/plain": [
       "<matplotlib.figure.Figure at 0xb11c940>"
      ]
     },
     "metadata": {},
     "output_type": "display_data"
    },
    {
     "name": "stdout",
     "output_type": "stream",
     "text": [
      "Lin Score: 0.37290336524039847\n",
      "Poly Score: 0.902091120238935\n",
      "Rbf Score: 0.8399414035174312\n",
      "R-Squared Value for the Polynomial Kernel: 0.902091120238935\n",
      "Cross Validation Mean Squared Error for the Polynomial Kernel: [-0.13461249 -0.00072289 -0.00048515 -0.00043247 -0.00320793 -0.00460232]\n"
     ]
    }
   ],
   "source": [
    "model = predict_prices(btc_train[:,0], btc_train[:,1], btc_test[:,0], btc_test[:,1])"
   ]
  },
  {
   "cell_type": "code",
   "execution_count": 13,
   "metadata": {},
   "outputs": [
    {
     "data": {
      "text/plain": [
       "1.0"
      ]
     },
     "execution_count": 13,
     "metadata": {},
     "output_type": "execute_result"
    }
   ],
   "source": [
    "transform_inp = scaler.transform([[1654.0,0.0]])\n",
    "transform_inp[0,0]"
   ]
  },
  {
   "cell_type": "code",
   "execution_count": 14,
   "metadata": {},
   "outputs": [
    {
     "data": {
      "text/plain": [
       "array([0.73633744])"
      ]
     },
     "execution_count": 14,
     "metadata": {},
     "output_type": "execute_result"
    }
   ],
   "source": [
    "predicted_val = model.predict(np.array(transform_inp[0,0]))\n",
    "predicted_val"
   ]
  },
  {
   "cell_type": "code",
   "execution_count": 15,
   "metadata": {},
   "outputs": [
    {
     "data": {
      "text/plain": [
       "array([[1217.90212749,   68.43      ]])"
      ]
     },
     "execution_count": 15,
     "metadata": {},
     "output_type": "execute_result"
    }
   ],
   "source": [
    "scaler.inverse_transform([[predicted_val[0],0]])"
   ]
  },
  {
   "cell_type": "code",
   "execution_count": null,
   "metadata": {},
   "outputs": [],
   "source": []
  }
 ],
 "metadata": {
  "kernelspec": {
   "display_name": "Python 3",
   "language": "python",
   "name": "python3"
  },
  "language_info": {
   "codemirror_mode": {
    "name": "ipython",
    "version": 3
   },
   "file_extension": ".py",
   "mimetype": "text/x-python",
   "name": "python",
   "nbconvert_exporter": "python",
   "pygments_lexer": "ipython3",
   "version": "3.6.4"
  }
 },
 "nbformat": 4,
 "nbformat_minor": 2
}
