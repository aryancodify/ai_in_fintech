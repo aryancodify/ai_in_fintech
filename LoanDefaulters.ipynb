{
 "cells": [
  {
   "cell_type": "code",
   "execution_count": 1,
   "metadata": {},
   "outputs": [],
   "source": [
    "import numpy as np\n",
    "import pandas as pd\n",
    "import seaborn as sns"
   ]
  },
  {
   "cell_type": "code",
   "execution_count": 2,
   "metadata": {},
   "outputs": [],
   "source": [
    "cdf = pd.read_csv('D:/upgrad/EDA/eda-case-study/loan.csv',low_memory=False)"
   ]
  },
  {
   "cell_type": "code",
   "execution_count": 3,
   "metadata": {},
   "outputs": [],
   "source": [
    "cdf.dropna(axis='columns',how='all',inplace=True)"
   ]
  },
  {
   "cell_type": "code",
   "execution_count": 4,
   "metadata": {},
   "outputs": [],
   "source": [
    "cdf.drop(['desc','mths_since_last_delinq','mths_since_last_record', 'next_pymnt_d', 'collections_12_mths_ex_med', 'chargeoff_within_12_mths','tax_liens'],axis='columns',inplace=True)"
   ]
  },
  {
   "cell_type": "code",
   "execution_count": 5,
   "metadata": {},
   "outputs": [],
   "source": [
    "cdf = cdf.dropna(axis=0, subset=['revol_util','last_pymnt_d','last_credit_pull_d'])"
   ]
  },
  {
   "cell_type": "code",
   "execution_count": 6,
   "metadata": {},
   "outputs": [],
   "source": [
    "cdf['pub_rec_bankruptcies'].fillna(0, inplace=True)"
   ]
  },
  {
   "cell_type": "code",
   "execution_count": 7,
   "metadata": {},
   "outputs": [],
   "source": [
    "cdf = cdf.apply(lambda x:x.fillna(x.value_counts().index[0]))"
   ]
  },
  {
   "cell_type": "markdown",
   "metadata": {},
   "source": [
    "Check if there are any null or NaN values in any of the columns"
   ]
  },
  {
   "cell_type": "code",
   "execution_count": 8,
   "metadata": {},
   "outputs": [
    {
     "data": {
      "text/plain": [
       "id                         0.0\n",
       "member_id                  0.0\n",
       "loan_amnt                  0.0\n",
       "funded_amnt                0.0\n",
       "funded_amnt_inv            0.0\n",
       "term                       0.0\n",
       "int_rate                   0.0\n",
       "installment                0.0\n",
       "grade                      0.0\n",
       "sub_grade                  0.0\n",
       "emp_title                  0.0\n",
       "emp_length                 0.0\n",
       "home_ownership             0.0\n",
       "annual_inc                 0.0\n",
       "verification_status        0.0\n",
       "issue_d                    0.0\n",
       "loan_status                0.0\n",
       "pymnt_plan                 0.0\n",
       "url                        0.0\n",
       "purpose                    0.0\n",
       "title                      0.0\n",
       "zip_code                   0.0\n",
       "addr_state                 0.0\n",
       "dti                        0.0\n",
       "delinq_2yrs                0.0\n",
       "earliest_cr_line           0.0\n",
       "inq_last_6mths             0.0\n",
       "open_acc                   0.0\n",
       "pub_rec                    0.0\n",
       "revol_bal                  0.0\n",
       "revol_util                 0.0\n",
       "total_acc                  0.0\n",
       "initial_list_status        0.0\n",
       "out_prncp                  0.0\n",
       "out_prncp_inv              0.0\n",
       "total_pymnt                0.0\n",
       "total_pymnt_inv            0.0\n",
       "total_rec_prncp            0.0\n",
       "total_rec_int              0.0\n",
       "total_rec_late_fee         0.0\n",
       "recoveries                 0.0\n",
       "collection_recovery_fee    0.0\n",
       "last_pymnt_d               0.0\n",
       "last_pymnt_amnt            0.0\n",
       "last_credit_pull_d         0.0\n",
       "policy_code                0.0\n",
       "application_type           0.0\n",
       "acc_now_delinq             0.0\n",
       "delinq_amnt                0.0\n",
       "pub_rec_bankruptcies       0.0\n",
       "dtype: float64"
      ]
     },
     "execution_count": 8,
     "metadata": {},
     "output_type": "execute_result"
    }
   ],
   "source": [
    "round(100*(cdf.isnull().sum()/len(cdf.index)), 2)"
   ]
  },
  {
   "cell_type": "code",
   "execution_count": 9,
   "metadata": {},
   "outputs": [],
   "source": [
    "cdf.drop(['last_credit_pull_d','last_credit_pull_d','recoveries','collection_recovery_fee','issue_d','id','member_id'],axis='columns',inplace=True)"
   ]
  },
  {
   "cell_type": "code",
   "execution_count": 10,
   "metadata": {},
   "outputs": [],
   "source": [
    "cdf_final = cdf[(cdf.loan_status=='Fully Paid') | (cdf.loan_status=='Charged Off')]"
   ]
  },
  {
   "cell_type": "code",
   "execution_count": 11,
   "metadata": {},
   "outputs": [
    {
     "data": {
      "text/plain": [
       "loan_status\n",
       "Charged Off     5543\n",
       "Fully Paid     32915\n",
       "Name: loan_status, dtype: int64"
      ]
     },
     "execution_count": 11,
     "metadata": {},
     "output_type": "execute_result"
    }
   ],
   "source": [
    "cdf_final.groupby('loan_status')['loan_status'].count()"
   ]
  },
  {
   "cell_type": "code",
   "execution_count": 12,
   "metadata": {},
   "outputs": [
    {
     "name": "stderr",
     "output_type": "stream",
     "text": [
      "D:\\ProgramData\\Anaconda3\\lib\\site-packages\\ipykernel_launcher.py:1: SettingWithCopyWarning: \n",
      "A value is trying to be set on a copy of a slice from a DataFrame.\n",
      "Try using .loc[row_indexer,col_indexer] = value instead\n",
      "\n",
      "See the caveats in the documentation: http://pandas.pydata.org/pandas-docs/stable/indexing.html#indexing-view-versus-copy\n",
      "  \"\"\"Entry point for launching an IPython kernel.\n"
     ]
    }
   ],
   "source": [
    "cdf_final['int_rate'] = cdf_final['int_rate'].apply(lambda x: float(x[:-1]))"
   ]
  },
  {
   "cell_type": "code",
   "execution_count": 13,
   "metadata": {},
   "outputs": [
    {
     "name": "stderr",
     "output_type": "stream",
     "text": [
      "D:\\ProgramData\\Anaconda3\\lib\\site-packages\\ipykernel_launcher.py:1: SettingWithCopyWarning: \n",
      "A value is trying to be set on a copy of a slice from a DataFrame\n",
      "\n",
      "See the caveats in the documentation: http://pandas.pydata.org/pandas-docs/stable/indexing.html#indexing-view-versus-copy\n",
      "  \"\"\"Entry point for launching an IPython kernel.\n"
     ]
    }
   ],
   "source": [
    "cdf_final.drop(['funded_amnt','funded_amnt_inv','url','last_pymnt_d','zip_code'],axis='columns',inplace=True)"
   ]
  },
  {
   "cell_type": "code",
   "execution_count": 14,
   "metadata": {},
   "outputs": [
    {
     "name": "stderr",
     "output_type": "stream",
     "text": [
      "D:\\ProgramData\\Anaconda3\\lib\\site-packages\\ipykernel_launcher.py:1: SettingWithCopyWarning: \n",
      "A value is trying to be set on a copy of a slice from a DataFrame.\n",
      "Try using .loc[row_indexer,col_indexer] = value instead\n",
      "\n",
      "See the caveats in the documentation: http://pandas.pydata.org/pandas-docs/stable/indexing.html#indexing-view-versus-copy\n",
      "  \"\"\"Entry point for launching an IPython kernel.\n"
     ]
    }
   ],
   "source": [
    "cdf_final['loan_status'] = cdf_final.loan_status.map({ 'Charged Off': 1, 'Fully Paid': 0})"
   ]
  },
  {
   "cell_type": "code",
   "execution_count": 15,
   "metadata": {},
   "outputs": [
    {
     "name": "stderr",
     "output_type": "stream",
     "text": [
      "D:\\ProgramData\\Anaconda3\\lib\\site-packages\\ipykernel_launcher.py:2: SettingWithCopyWarning: \n",
      "A value is trying to be set on a copy of a slice from a DataFrame\n",
      "\n",
      "See the caveats in the documentation: http://pandas.pydata.org/pandas-docs/stable/indexing.html#indexing-view-versus-copy\n",
      "  \n"
     ]
    }
   ],
   "source": [
    "# Removing title as it has lot of ad-hoc values\n",
    "cdf_final.drop(['title'],axis='columns',inplace=True)"
   ]
  },
  {
   "cell_type": "code",
   "execution_count": 16,
   "metadata": {},
   "outputs": [
    {
     "data": {
      "text/html": [
       "<div>\n",
       "<style scoped>\n",
       "    .dataframe tbody tr th:only-of-type {\n",
       "        vertical-align: middle;\n",
       "    }\n",
       "\n",
       "    .dataframe tbody tr th {\n",
       "        vertical-align: top;\n",
       "    }\n",
       "\n",
       "    .dataframe thead th {\n",
       "        text-align: right;\n",
       "    }\n",
       "</style>\n",
       "<table border=\"1\" class=\"dataframe\">\n",
       "  <thead>\n",
       "    <tr style=\"text-align: right;\">\n",
       "      <th></th>\n",
       "      <th>loan_amnt</th>\n",
       "      <th>term</th>\n",
       "      <th>int_rate</th>\n",
       "      <th>installment</th>\n",
       "      <th>grade</th>\n",
       "      <th>sub_grade</th>\n",
       "      <th>emp_title</th>\n",
       "      <th>emp_length</th>\n",
       "      <th>home_ownership</th>\n",
       "      <th>annual_inc</th>\n",
       "      <th>...</th>\n",
       "      <th>total_pymnt_inv</th>\n",
       "      <th>total_rec_prncp</th>\n",
       "      <th>total_rec_int</th>\n",
       "      <th>total_rec_late_fee</th>\n",
       "      <th>last_pymnt_amnt</th>\n",
       "      <th>policy_code</th>\n",
       "      <th>application_type</th>\n",
       "      <th>acc_now_delinq</th>\n",
       "      <th>delinq_amnt</th>\n",
       "      <th>pub_rec_bankruptcies</th>\n",
       "    </tr>\n",
       "  </thead>\n",
       "  <tbody>\n",
       "    <tr>\n",
       "      <th>0</th>\n",
       "      <td>5000</td>\n",
       "      <td>36 months</td>\n",
       "      <td>10.65</td>\n",
       "      <td>162.87</td>\n",
       "      <td>B</td>\n",
       "      <td>B2</td>\n",
       "      <td>US Army</td>\n",
       "      <td>10+ years</td>\n",
       "      <td>RENT</td>\n",
       "      <td>24000.0</td>\n",
       "      <td>...</td>\n",
       "      <td>5833.84</td>\n",
       "      <td>5000.00</td>\n",
       "      <td>863.16</td>\n",
       "      <td>0.00</td>\n",
       "      <td>171.62</td>\n",
       "      <td>1</td>\n",
       "      <td>INDIVIDUAL</td>\n",
       "      <td>0</td>\n",
       "      <td>0</td>\n",
       "      <td>0.0</td>\n",
       "    </tr>\n",
       "    <tr>\n",
       "      <th>1</th>\n",
       "      <td>2500</td>\n",
       "      <td>60 months</td>\n",
       "      <td>15.27</td>\n",
       "      <td>59.83</td>\n",
       "      <td>C</td>\n",
       "      <td>C4</td>\n",
       "      <td>Ryder</td>\n",
       "      <td>&lt; 1 year</td>\n",
       "      <td>RENT</td>\n",
       "      <td>30000.0</td>\n",
       "      <td>...</td>\n",
       "      <td>1008.71</td>\n",
       "      <td>456.46</td>\n",
       "      <td>435.17</td>\n",
       "      <td>0.00</td>\n",
       "      <td>119.66</td>\n",
       "      <td>1</td>\n",
       "      <td>INDIVIDUAL</td>\n",
       "      <td>0</td>\n",
       "      <td>0</td>\n",
       "      <td>0.0</td>\n",
       "    </tr>\n",
       "    <tr>\n",
       "      <th>2</th>\n",
       "      <td>2400</td>\n",
       "      <td>36 months</td>\n",
       "      <td>15.96</td>\n",
       "      <td>84.33</td>\n",
       "      <td>C</td>\n",
       "      <td>C5</td>\n",
       "      <td>US Army</td>\n",
       "      <td>10+ years</td>\n",
       "      <td>RENT</td>\n",
       "      <td>12252.0</td>\n",
       "      <td>...</td>\n",
       "      <td>3005.67</td>\n",
       "      <td>2400.00</td>\n",
       "      <td>605.67</td>\n",
       "      <td>0.00</td>\n",
       "      <td>649.91</td>\n",
       "      <td>1</td>\n",
       "      <td>INDIVIDUAL</td>\n",
       "      <td>0</td>\n",
       "      <td>0</td>\n",
       "      <td>0.0</td>\n",
       "    </tr>\n",
       "    <tr>\n",
       "      <th>3</th>\n",
       "      <td>10000</td>\n",
       "      <td>36 months</td>\n",
       "      <td>13.49</td>\n",
       "      <td>339.31</td>\n",
       "      <td>C</td>\n",
       "      <td>C1</td>\n",
       "      <td>AIR RESOURCES BOARD</td>\n",
       "      <td>10+ years</td>\n",
       "      <td>RENT</td>\n",
       "      <td>49200.0</td>\n",
       "      <td>...</td>\n",
       "      <td>12231.89</td>\n",
       "      <td>10000.00</td>\n",
       "      <td>2214.92</td>\n",
       "      <td>16.97</td>\n",
       "      <td>357.48</td>\n",
       "      <td>1</td>\n",
       "      <td>INDIVIDUAL</td>\n",
       "      <td>0</td>\n",
       "      <td>0</td>\n",
       "      <td>0.0</td>\n",
       "    </tr>\n",
       "    <tr>\n",
       "      <th>5</th>\n",
       "      <td>5000</td>\n",
       "      <td>36 months</td>\n",
       "      <td>7.90</td>\n",
       "      <td>156.46</td>\n",
       "      <td>A</td>\n",
       "      <td>A4</td>\n",
       "      <td>Veolia Transportaton</td>\n",
       "      <td>3 years</td>\n",
       "      <td>RENT</td>\n",
       "      <td>36000.0</td>\n",
       "      <td>...</td>\n",
       "      <td>5632.21</td>\n",
       "      <td>5000.00</td>\n",
       "      <td>632.21</td>\n",
       "      <td>0.00</td>\n",
       "      <td>161.03</td>\n",
       "      <td>1</td>\n",
       "      <td>INDIVIDUAL</td>\n",
       "      <td>0</td>\n",
       "      <td>0</td>\n",
       "      <td>0.0</td>\n",
       "    </tr>\n",
       "  </tbody>\n",
       "</table>\n",
       "<p>5 rows × 38 columns</p>\n",
       "</div>"
      ],
      "text/plain": [
       "   loan_amnt        term  int_rate  installment grade sub_grade  \\\n",
       "0       5000   36 months     10.65       162.87     B        B2   \n",
       "1       2500   60 months     15.27        59.83     C        C4   \n",
       "2       2400   36 months     15.96        84.33     C        C5   \n",
       "3      10000   36 months     13.49       339.31     C        C1   \n",
       "5       5000   36 months      7.90       156.46     A        A4   \n",
       "\n",
       "              emp_title emp_length home_ownership  annual_inc  \\\n",
       "0               US Army  10+ years           RENT     24000.0   \n",
       "1                 Ryder   < 1 year           RENT     30000.0   \n",
       "2               US Army  10+ years           RENT     12252.0   \n",
       "3   AIR RESOURCES BOARD  10+ years           RENT     49200.0   \n",
       "5  Veolia Transportaton    3 years           RENT     36000.0   \n",
       "\n",
       "           ...          total_pymnt_inv  total_rec_prncp total_rec_int  \\\n",
       "0          ...                  5833.84          5000.00        863.16   \n",
       "1          ...                  1008.71           456.46        435.17   \n",
       "2          ...                  3005.67          2400.00        605.67   \n",
       "3          ...                 12231.89         10000.00       2214.92   \n",
       "5          ...                  5632.21          5000.00        632.21   \n",
       "\n",
       "  total_rec_late_fee last_pymnt_amnt  policy_code  application_type  \\\n",
       "0               0.00          171.62            1        INDIVIDUAL   \n",
       "1               0.00          119.66            1        INDIVIDUAL   \n",
       "2               0.00          649.91            1        INDIVIDUAL   \n",
       "3              16.97          357.48            1        INDIVIDUAL   \n",
       "5               0.00          161.03            1        INDIVIDUAL   \n",
       "\n",
       "  acc_now_delinq  delinq_amnt  pub_rec_bankruptcies  \n",
       "0              0            0                   0.0  \n",
       "1              0            0                   0.0  \n",
       "2              0            0                   0.0  \n",
       "3              0            0                   0.0  \n",
       "5              0            0                   0.0  \n",
       "\n",
       "[5 rows x 38 columns]"
      ]
     },
     "execution_count": 16,
     "metadata": {},
     "output_type": "execute_result"
    }
   ],
   "source": [
    "cdf_final.head()"
   ]
  },
  {
   "cell_type": "code",
   "execution_count": 17,
   "metadata": {
    "scrolled": true
   },
   "outputs": [
    {
     "data": {
      "text/plain": [
       "['addr_state',\n",
       " 'emp_length',\n",
       " 'term',\n",
       " 'initial_list_status',\n",
       " 'verification_status',\n",
       " 'grade',\n",
       " 'purpose',\n",
       " 'sub_grade',\n",
       " 'application_type',\n",
       " 'earliest_cr_line',\n",
       " 'pymnt_plan',\n",
       " 'home_ownership',\n",
       " 'emp_title',\n",
       " 'revol_util']"
      ]
     },
     "execution_count": 17,
     "metadata": {},
     "output_type": "execute_result"
    }
   ],
   "source": [
    "cols = cdf_final.columns\n",
    "num_cols = cdf_final._get_numeric_data().columns\n",
    "cat_variables = list(set(cols) - set(num_cols))\n",
    "cat_variables"
   ]
  },
  {
   "cell_type": "code",
   "execution_count": 18,
   "metadata": {},
   "outputs": [
    {
     "name": "stderr",
     "output_type": "stream",
     "text": [
      "D:\\ProgramData\\Anaconda3\\lib\\site-packages\\ipykernel_launcher.py:4: SettingWithCopyWarning: \n",
      "A value is trying to be set on a copy of a slice from a DataFrame.\n",
      "Try using .loc[row_indexer,col_indexer] = value instead\n",
      "\n",
      "See the caveats in the documentation: http://pandas.pydata.org/pandas-docs/stable/indexing.html#indexing-view-versus-copy\n",
      "  after removing the cwd from sys.path.\n"
     ]
    }
   ],
   "source": [
    "num_vars = set(num_cols)\n",
    "num_vars.remove('loan_status')\n",
    "for variable in num_vars:\n",
    "    cdf_final[variable] = (cdf_final[variable]-np.mean(cdf_final[variable]))/(np.max(cdf_final[variable])-np.min(cdf_final[variable]))"
   ]
  },
  {
   "cell_type": "code",
   "execution_count": 19,
   "metadata": {
    "scrolled": true
   },
   "outputs": [
    {
     "name": "stderr",
     "output_type": "stream",
     "text": [
      "D:\\ProgramData\\Anaconda3\\lib\\site-packages\\ipykernel_launcher.py:1: SettingWithCopyWarning: \n",
      "A value is trying to be set on a copy of a slice from a DataFrame\n",
      "\n",
      "See the caveats in the documentation: http://pandas.pydata.org/pandas-docs/stable/indexing.html#indexing-view-versus-copy\n",
      "  \"\"\"Entry point for launching an IPython kernel.\n"
     ]
    }
   ],
   "source": [
    "cdf_final.drop(['policy_code','acc_now_delinq','delinq_amnt','out_prncp','out_prncp_inv'], inplace=True, axis=1)"
   ]
  },
  {
   "cell_type": "code",
   "execution_count": 20,
   "metadata": {},
   "outputs": [
    {
     "data": {
      "text/plain": [
       "loan_amnt               0.0\n",
       "funded_amnt             0.0\n",
       "funded_amnt_inv         0.0\n",
       "term                    0.0\n",
       "int_rate                0.0\n",
       "installment             0.0\n",
       "grade                   0.0\n",
       "sub_grade               0.0\n",
       "emp_title               0.0\n",
       "emp_length              0.0\n",
       "home_ownership          0.0\n",
       "annual_inc              0.0\n",
       "verification_status     0.0\n",
       "loan_status             0.0\n",
       "pymnt_plan              0.0\n",
       "url                     0.0\n",
       "purpose                 0.0\n",
       "title                   0.0\n",
       "zip_code                0.0\n",
       "addr_state              0.0\n",
       "dti                     0.0\n",
       "delinq_2yrs             0.0\n",
       "earliest_cr_line        0.0\n",
       "inq_last_6mths          0.0\n",
       "open_acc                0.0\n",
       "pub_rec                 0.0\n",
       "revol_bal               0.0\n",
       "revol_util              0.0\n",
       "total_acc               0.0\n",
       "initial_list_status     0.0\n",
       "out_prncp               0.0\n",
       "out_prncp_inv           0.0\n",
       "total_pymnt             0.0\n",
       "total_pymnt_inv         0.0\n",
       "total_rec_prncp         0.0\n",
       "total_rec_int           0.0\n",
       "total_rec_late_fee      0.0\n",
       "last_pymnt_d            0.0\n",
       "last_pymnt_amnt         0.0\n",
       "policy_code             0.0\n",
       "application_type        0.0\n",
       "acc_now_delinq          0.0\n",
       "delinq_amnt             0.0\n",
       "pub_rec_bankruptcies    0.0\n",
       "dtype: float64"
      ]
     },
     "execution_count": 20,
     "metadata": {},
     "output_type": "execute_result"
    }
   ],
   "source": [
    "round(100*(cdf.isnull().sum()/len(cdf.index)), 2)"
   ]
  },
  {
   "cell_type": "markdown",
   "metadata": {},
   "source": [
    "Use one-hot encoding to convert numerical columns with categorical data"
   ]
  },
  {
   "cell_type": "code",
   "execution_count": 21,
   "metadata": {},
   "outputs": [],
   "source": [
    "for variable in cat_variables:\n",
    "    dummies = pd.get_dummies(cdf_final[variable], prefix=variable, drop_first=True)\n",
    "    cdf_final = pd.concat([cdf_final, dummies], axis=1)\n",
    "    cdf_final.drop([variable], axis=1, inplace=True)"
   ]
  },
  {
   "cell_type": "code",
   "execution_count": null,
   "metadata": {},
   "outputs": [],
   "source": [
    "ind_headers = list(cdf_final.columns.values)"
   ]
  },
  {
   "cell_type": "code",
   "execution_count": null,
   "metadata": {},
   "outputs": [],
   "source": [
    "ind_headers.remove('loan_status')"
   ]
  },
  {
   "cell_type": "code",
   "execution_count": null,
   "metadata": {},
   "outputs": [],
   "source": [
    "X = cdf_final[ind_headers]\n",
    "y = cdf_final['loan_status']"
   ]
  },
  {
   "cell_type": "markdown",
   "metadata": {},
   "source": [
    "Now we will build a random forrest classifier to predict whether a prospective customer is likely to default on his/her loan or not."
   ]
  },
  {
   "cell_type": "code",
   "execution_count": 22,
   "metadata": {},
   "outputs": [],
   "source": [
    "from sklearn.model_selection import train_test_split\n",
    "from sklearn.ensemble import RandomForestClassifier\n",
    "from sklearn.metrics import accuracy_score\n",
    "from sklearn.metrics import confusion_matrix\n",
    "from sklearn.metrics import recall_score\n",
    "from sklearn.metrics import precision_score\n",
    "from sklearn.metrics import f1_score"
   ]
  },
  {
   "cell_type": "code",
   "execution_count": 26,
   "metadata": {},
   "outputs": [
    {
     "name": "stderr",
     "output_type": "stream",
     "text": [
      "D:\\ProgramData\\Anaconda3\\lib\\site-packages\\sklearn\\model_selection\\_split.py:2026: FutureWarning: From version 0.21, test_size will always complement train_size unless both are specified.\n",
      "  FutureWarning)\n"
     ]
    }
   ],
   "source": [
    " # Split dataset into train and test dataset\n",
    "train_x, test_x, train_y, test_y = train_test_split(X, y,\n",
    "                                                    train_size=0.7, random_state = 12)"
   ]
  },
  {
   "cell_type": "code",
   "execution_count": 27,
   "metadata": {},
   "outputs": [
    {
     "name": "stdout",
     "output_type": "stream",
     "text": [
      "Train_x Shape ::  (26920, 29687)\n",
      "Train_y Shape ::  (26920,)\n",
      "Test_x Shape ::  (11538, 29687)\n",
      "Test_y Shape ::  (11538,)\n"
     ]
    }
   ],
   "source": [
    "    # Train and Test dataset size details\n",
    "    print(\"Train_x Shape :: \", train_x.shape)\n",
    "    print(\"Train_y Shape :: \", train_y.shape)\n",
    "    print(\"Test_x Shape :: \", test_x.shape)\n",
    "    print(\"Test_y Shape :: \", test_y.shape)"
   ]
  },
  {
   "cell_type": "code",
   "execution_count": 24,
   "metadata": {
    "scrolled": true
   },
   "outputs": [],
   "source": [
    "\"\"\" \n",
    "Function that trains the given classifier on training data and comes up with prediction and accuracy score\n",
    "for the test dataset\n",
    "\n",
    "@Author Aryan Singh\n",
    "\"\"\"\n",
    "def train_model(clf, train_x,train_y,test_x,test_y):\n",
    "    trained_model = clf.fit(train_x, train_y)\n",
    "    print(trained_model)\n",
    "    predictions_train = trained_model.predict(train_x)\n",
    "    predictions = trained_model.predict(test_x)\n",
    "    for i in range(0, 5):\n",
    "        print(\"Actual outcome :: {} and Predicted outcome :: {}\".format(list(test_y)[i], predictions[i]))\n",
    "    print(\"Train Accuracy :: \", accuracy_score(train_y, predictions_train))\n",
    "    print(\"Test Accuracy  :: \", accuracy_score(test_y, predictions))\n",
    "    print(\" Confusion matrix for train dataset\", confusion_matrix(train_y, predictions_train))\n",
    "    print(\" Confusion matrix for test dataset\", confusion_matrix(test_y, predictions))\n",
    "    return predictions"
   ]
  },
  {
   "cell_type": "code",
   "execution_count": 25,
   "metadata": {},
   "outputs": [],
   "source": [
    "\"\"\" \n",
    "Function that takes in the predictions and labels of test dataset to determine the F-1 score,\n",
    "sensitivity, specificity, recall and precision for the given dataset.\n",
    "\n",
    "@Author Aryan Singh\n",
    "\"\"\"\n",
    "def measure_accuracy(test_y, predictions):\n",
    "    confusion = confusion_matrix(test_y, predictions)\n",
    "\n",
    "    TP = confusion[1,1]\n",
    "    TN = confusion[0,0]\n",
    "    FP = confusion[0,1]\n",
    "    FN = confusion[1,0]\n",
    "\n",
    "    sensitivity = TP/ (TP + FN)\n",
    "    print(\"Sensitivity \", sensitivity)\n",
    "\n",
    "    specificity = TN/(TN + FP)\n",
    "    print(\"specificity\", specificity)\n",
    "\n",
    "    precision = TP / (TP + FP)\n",
    "    print(\"pricision \", precision)\n",
    "    print(\"Precision Score:\",precision_score(test_y, predictions))\n",
    "\n",
    "    print(\"Recall Score:\", recall_score(test_y, predictions))\n",
    "\n",
    "    print(\"F1 Score:\", f1_score(test_y, predictions))"
   ]
  },
  {
   "cell_type": "code",
   "execution_count": 26,
   "metadata": {},
   "outputs": [],
   "source": [
    "from sklearn.linear_model import LogisticRegression\n",
    "from sklearn.ensemble import RandomForestClassifier\n",
    "from sklearn.svm import LinearSVC\n",
    "from sklearn.naive_bayes import GaussianNB\n",
    "import xgboost as xgb"
   ]
  },
  {
   "cell_type": "code",
   "execution_count": 32,
   "metadata": {},
   "outputs": [
    {
     "name": "stdout",
     "output_type": "stream",
     "text": [
      "########################Random Forest Classifier########################\n",
      "RandomForestClassifier(bootstrap=True, class_weight=None, criterion='gini',\n",
      "            max_depth=None, max_features='auto', max_leaf_nodes=None,\n",
      "            min_impurity_decrease=0.0, min_impurity_split=None,\n",
      "            min_samples_leaf=1, min_samples_split=2,\n",
      "            min_weight_fraction_leaf=0.0, n_estimators=20, n_jobs=4,\n",
      "            oob_score=False, random_state=100, verbose=0, warm_start=False)\n",
      "Actual outcome :: 1 and Predicted outcome :: 1\n",
      "Actual outcome :: 0 and Predicted outcome :: 0\n",
      "Actual outcome :: 1 and Predicted outcome :: 0\n",
      "Actual outcome :: 0 and Predicted outcome :: 0\n",
      "Actual outcome :: 0 and Predicted outcome :: 0\n",
      "Train Accuracy ::  0.9977711738484398\n",
      "Test Accuracy  ::  0.9253770150806032\n",
      " Confusion matrix for train dataset [[23060     0]\n",
      " [   60  3800]]\n",
      " Confusion matrix for test dataset [[9848    7]\n",
      " [ 854  829]]\n",
      "Sensitivity  0.49257278669043375\n",
      "specificity 0.9992897006595637\n",
      "pricision  0.9916267942583732\n",
      "Precision Score: 0.9916267942583732\n",
      "Recall Score: 0.49257278669043375\n",
      "F1 Score: 0.6581976974990076\n"
     ]
    }
   ],
   "source": [
    "print(\"########################Random Forest Classifier########################\")\n",
    "clf_A = RandomForestClassifier(n_estimators=20, random_state=100, n_jobs=4)\n",
    "predictions = train_model(clf_A, train_x,train_y,test_x,test_y)\n",
    "measure_accuracy(test_y, predictions)"
   ]
  },
  {
   "cell_type": "code",
   "execution_count": 34,
   "metadata": {},
   "outputs": [
    {
     "name": "stdout",
     "output_type": "stream",
     "text": [
      "########################Logistic Regression########################\n"
     ]
    },
    {
     "name": "stderr",
     "output_type": "stream",
     "text": [
      "D:\\ProgramData\\Anaconda3\\lib\\site-packages\\sklearn\\linear_model\\logistic.py:1228: UserWarning: 'n_jobs' > 1 does not have any effect when 'solver' is set to 'liblinear'. Got 'n_jobs' = 4.\n",
      "  \" = {}.\".format(self.n_jobs))\n"
     ]
    },
    {
     "name": "stdout",
     "output_type": "stream",
     "text": [
      "LogisticRegression(C=1.0, class_weight=None, dual=False, fit_intercept=True,\n",
      "          intercept_scaling=1, max_iter=100, multi_class='ovr', n_jobs=4,\n",
      "          penalty='l2', random_state=42, solver='liblinear', tol=0.0001,\n",
      "          verbose=0, warm_start=False)\n",
      "Actual outcome :: 1 and Predicted outcome :: 1\n",
      "Actual outcome :: 0 and Predicted outcome :: 0\n",
      "Actual outcome :: 1 and Predicted outcome :: 1\n",
      "Actual outcome :: 0 and Predicted outcome :: 0\n",
      "Actual outcome :: 0 and Predicted outcome :: 0\n",
      "Train Accuracy ::  0.9793462109955423\n",
      "Test Accuracy  ::  0.9613451204714856\n",
      " Confusion matrix for train dataset [[23042    18]\n",
      " [  538  3322]]\n",
      " Confusion matrix for test dataset [[9837   18]\n",
      " [ 428 1255]]\n",
      "Sensitivity  0.7456922162804516\n",
      "specificity 0.9981735159817352\n",
      "pricision  0.98586017282011\n",
      "Precision Score: 0.98586017282011\n",
      "Recall Score: 0.7456922162804516\n",
      "F1 Score: 0.8491204330175913\n"
     ]
    }
   ],
   "source": [
    "print(\"########################Logistic Regression########################\")\n",
    "clf_B = LogisticRegression(random_state = 42, n_jobs=4)\n",
    "predictions = train_model(clf_B, train_x,train_y,test_x,test_y)\n",
    "measure_accuracy(test_y, predictions)"
   ]
  },
  {
   "cell_type": "code",
   "execution_count": 35,
   "metadata": {
    "scrolled": false
   },
   "outputs": [
    {
     "name": "stdout",
     "output_type": "stream",
     "text": [
      "########################SVM########################\n",
      "LinearSVC(C=1.0, class_weight=None, dual=True, fit_intercept=True,\n",
      "     intercept_scaling=1, loss='squared_hinge', max_iter=1000,\n",
      "     multi_class='ovr', penalty='l2', random_state=42, tol=0.0001,\n",
      "     verbose=0)\n",
      "Actual outcome :: 1 and Predicted outcome :: 1\n",
      "Actual outcome :: 0 and Predicted outcome :: 0\n",
      "Actual outcome :: 1 and Predicted outcome :: 1\n",
      "Actual outcome :: 0 and Predicted outcome :: 0\n",
      "Actual outcome :: 0 and Predicted outcome :: 0\n",
      "Train Accuracy ::  0.9991827637444279\n",
      "Test Accuracy  ::  0.9759057028947825\n",
      " Confusion matrix for train dataset [[23060     0]\n",
      " [   22  3838]]\n",
      " Confusion matrix for test dataset [[9831   24]\n",
      " [ 254 1429]]\n",
      "Sensitivity  0.8490790255496138\n",
      "specificity 0.9975646879756469\n",
      "pricision  0.9834824501032347\n",
      "Precision Score: 0.9834824501032347\n",
      "Recall Score: 0.8490790255496138\n",
      "F1 Score: 0.9113520408163266\n"
     ]
    }
   ],
   "source": [
    "print(\"########################SVM########################\")\n",
    "clf_C = LinearSVC(random_state = 42)\n",
    "predictions = train_model(clf_C, train_x,train_y,test_x,test_y)\n",
    "measure_accuracy(test_y, predictions)"
   ]
  },
  {
   "cell_type": "code",
   "execution_count": 27,
   "metadata": {},
   "outputs": [
    {
     "name": "stderr",
     "output_type": "stream",
     "text": [
      "D:\\ProgramData\\Anaconda3\\lib\\site-packages\\sklearn\\model_selection\\_split.py:2026: FutureWarning: From version 0.21, test_size will always complement train_size unless both are specified.\n",
      "  FutureWarning)\n"
     ]
    }
   ],
   "source": [
    "### Pre-Processing For gradient booster\n",
    "\n",
    "import re\n",
    "regex = re.compile(r\"\\[|\\]|<\", re.IGNORECASE)\n",
    "cdf_final.columns = [regex.sub(\"_\", col) if any(x in str(col) for x in set(('[', ']', '<'))) else col for col in cdf_final.columns.values]\n",
    "ind_headers = list(cdf_final.columns.values)\n",
    "ind_headers.remove('loan_status')\n",
    "X = cdf_final[ind_headers]\n",
    "y = cdf_final['loan_status']\n",
    "train_x, test_x, train_y, test_y = train_test_split(X, y,\n",
    "                                                    train_size=0.7, random_state = 12)"
   ]
  },
  {
   "cell_type": "code",
   "execution_count": 28,
   "metadata": {
    "scrolled": false
   },
   "outputs": [
    {
     "name": "stdout",
     "output_type": "stream",
     "text": [
      "########################Gradient Boost########################\n",
      "XGBClassifier(base_score=0.5, booster='gbtree', colsample_bylevel=1,\n",
      "       colsample_bytree=1, gamma=0, learning_rate=0.1, max_delta_step=0,\n",
      "       max_depth=3, min_child_weight=1, missing=None, n_estimators=100,\n",
      "       n_jobs=1, nthread=4, objective='binary:logistic', random_state=0,\n",
      "       reg_alpha=0, reg_lambda=1, scale_pos_weight=1, seed=82, silent=True,\n",
      "       subsample=1)\n"
     ]
    },
    {
     "name": "stderr",
     "output_type": "stream",
     "text": [
      "D:\\ProgramData\\Anaconda3\\lib\\site-packages\\sklearn\\preprocessing\\label.py:151: DeprecationWarning: The truth value of an empty array is ambiguous. Returning False, but in future this will result in an error. Use `array.size > 0` to check that an array is not empty.\n",
      "  if diff:\n"
     ]
    },
    {
     "name": "stdout",
     "output_type": "stream",
     "text": [
      "Actual outcome :: 1 and Predicted outcome :: 1\n",
      "Actual outcome :: 0 and Predicted outcome :: 0\n",
      "Actual outcome :: 1 and Predicted outcome :: 1\n",
      "Actual outcome :: 0 and Predicted outcome :: 0\n",
      "Actual outcome :: 0 and Predicted outcome :: 0\n",
      "Test Accuracy  ::  0.984919396775871\n",
      " Confusion matrix for test dataset [[9849    6]\n",
      " [ 168 1515]]\n",
      "Sensitivity  0.9001782531194296\n",
      "specificity 0.9993911719939117\n",
      "pricision  0.9960552268244576\n",
      "Precision Score: 0.9960552268244576\n",
      "Recall Score: 0.9001782531194296\n",
      "F1 Score: 0.9456928838951311\n"
     ]
    }
   ],
   "source": [
    "print(\"########################Gradient Boost########################\")\n",
    "clf_D = xgb.XGBClassifier(seed = 82, nthread=4)\n",
    "predictions = train_model(clf_D, train_x,train_y,test_x,test_y)\n",
    "measure_accuracy(test_y, predictions)"
   ]
  },
  {
   "cell_type": "code",
   "execution_count": 34,
   "metadata": {},
   "outputs": [
    {
     "name": "stdout",
     "output_type": "stream",
     "text": [
      "########################Gaussian Naive Bayes########################\n",
      "GaussianNB(priors=None)\n",
      "Actual outcome :: 1 and Predicted outcome :: 1\n",
      "Actual outcome :: 0 and Predicted outcome :: 1\n",
      "Actual outcome :: 1 and Predicted outcome :: 1\n",
      "Actual outcome :: 0 and Predicted outcome :: 1\n",
      "Actual outcome :: 0 and Predicted outcome :: 1\n",
      "Train Accuracy ::  0.8731054977711739\n",
      "Test Accuracy  ::  0.30221875541688337\n",
      " Confusion matrix for train dataset [[19644  3416]\n",
      " [    0  3860]]\n",
      " Confusion matrix for test dataset [[2046 7809]\n",
      " [ 242 1441]]\n",
      "Sensitivity  0.8562091503267973\n",
      "specificity 0.2076103500761035\n",
      "pricision  0.1557837837837838\n",
      "Precision Score: 0.1557837837837838\n",
      "Recall Score: 0.8562091503267973\n",
      "F1 Score: 0.2636055977316382\n"
     ]
    }
   ],
   "source": [
    "print(\"########################Gaussian Naive Bayes########################\")\n",
    "clf_E = GaussianNB()\n",
    "predictions = train_model(clf_E, train_x,train_y,test_x,test_y)\n",
    "measure_accuracy(test_y, predictions)"
   ]
  },
  {
   "cell_type": "markdown",
   "metadata": {},
   "source": [
    "So after comparing all the models it is quite clear that the **Gradient Boosing** works the best as it has a **sensitivity** of over 90 percent which means that it identifies over **90 percent** of the defaulters correctly.\n",
    "\n",
    "At the same time its **specificity** is almost **100 percent** that means it identifies the non defaulters with a high amount of accuracy as well."
   ]
  },
  {
   "cell_type": "markdown",
   "metadata": {},
   "source": [
    "## ROC Curve for the best model"
   ]
  },
  {
   "cell_type": "markdown",
   "metadata": {},
   "source": [
    "Lets look at the ROC curve for the GBClassifier model"
   ]
  },
  {
   "cell_type": "code",
   "execution_count": 76,
   "metadata": {},
   "outputs": [],
   "source": [
    "\"\"\" \n",
    "Function to plot the ROC curve\n",
    "\n",
    "@Author Aryan Singh\n",
    "\"\"\"\n",
    "from sklearn.metrics import roc_curve\n",
    "from sklearn.metrics import roc_auc_score\n",
    "def draw_roc(actual, prob):\n",
    "    fpr, tpr, thresholds = roc_curve(actual, prob, drop_intermediate = False)\n",
    "    auc_score = roc_auc_score(actual,prob)\n",
    "    plt.figure(figsize=(6, 4))\n",
    "    plt.plot( fpr, tpr, label='ROC curve (area = %0.2f)' % auc_score )\n",
    "    plt.plot([0, 1], [0, 1], 'k--')\n",
    "    plt.xlim([0.0, 1.0])\n",
    "    plt.ylim([0.0, 1.05])\n",
    "    plt.xlabel('False Positive Rate or [1 - True Negative Rate]')\n",
    "    plt.ylabel('True Positive Rate')\n",
    "    plt.title('Receiver operating characteristic curve')\n",
    "    plt.legend(loc=\"lower right\")\n",
    "    plt.show()\n",
    "\n",
    "    return fpr, tpr, thresholds"
   ]
  },
  {
   "cell_type": "code",
   "execution_count": 77,
   "metadata": {},
   "outputs": [
    {
     "data": {
      "image/png": "[encoded data removed]",
      "text/plain": [
       "<matplotlib.figure.Figure at 0x11440438>"
      ]
     },
     "metadata": {},
     "output_type": "display_data"
    },
    {
     "data": {
      "text/plain": [
       "(array([0.00000000e+00, 6.08828006e-04, 1.00000000e+00]),\n",
       " array([0.        , 0.90017825, 1.        ]),\n",
       " array([2, 1, 0], dtype=int64))"
      ]
     },
     "execution_count": 77,
     "metadata": {},
     "output_type": "execute_result"
    }
   ],
   "source": [
    "draw_roc(test_y, predictions_D)"
   ]
  },
  {
   "cell_type": "markdown",
   "metadata": {},
   "source": [
    "# Checking Parameter Importance from model"
   ]
  },
  {
   "cell_type": "code",
   "execution_count": 45,
   "metadata": {},
   "outputs": [
    {
     "data": {
      "text/plain": [
       "array([3.44691115e-02, 2.51312591e-02, 3.96161282e-02, ...,\n",
       "       6.58378661e-05, 1.27063879e-04, 1.24677401e-05])"
      ]
     },
     "execution_count": 45,
     "metadata": {},
     "output_type": "execute_result"
    }
   ],
   "source": [
    "clf_D.feature_importances_"
   ]
  },
  {
   "cell_type": "code",
   "execution_count": 34,
   "metadata": {},
   "outputs": [],
   "source": [
    "cdf_no_ls = cdf_final.loc[:, cdf_final.columns != 'loan_status']"
   ]
  },
  {
   "cell_type": "code",
   "execution_count": 36,
   "metadata": {},
   "outputs": [],
   "source": [
    "feature_importances  = pd.Series(clf_D.feature_importances_, index=cdf_no_ls.columns)"
   ]
  },
  {
   "cell_type": "code",
   "execution_count": 42,
   "metadata": {},
   "outputs": [],
   "source": [
    "import matplotlib.pyplot as plt\n",
    "def graph_feature_importances(model, feature_names, autoscale=True, headroom=0.05, width=10, summarized_columns=None):\n",
    "    \"\"\"\n",
    "    \n",
    "    Graphs the feature importances of a random decision forest using a horizontal bar chart. \n",
    "    Probably works but untested on other sklearn.ensembles.\n",
    "    \n",
    "    Parameters\n",
    "    ----------\n",
    "    ensemble = Name of the ensemble whose features you would like graphed.\n",
    "    feature_names = A list of the names of those featurs, displayed on the Y axis.\n",
    "    autoscale = True (Automatically adjust the X axis size to the largest feature +.headroom) / False = scale from 0 to 1\n",
    "    headroom = used with autoscale, .05 default\n",
    "    width=figure width in inches\n",
    "    summarized_columns = a list of column prefixes to summarize on, for dummy variables (e.g. [\"day_\"] would summarize all day_ vars\n",
    "    \"\"\"\n",
    "    \n",
    "    if autoscale:\n",
    "        x_scale = model.feature_importances_.max()+ headroom\n",
    "    else:\n",
    "        x_scale = 1\n",
    "    \n",
    "    feature_dict=dict(zip(feature_names, model.feature_importances_))\n",
    "    \n",
    "    if summarized_columns: \n",
    "        #some dummy columns need to be summarized\n",
    "        for col_name in summarized_columns: \n",
    "            #sum all the features that contain col_name, store in temp sum_value\n",
    "            sum_value = sum(x for i, x in feature_dict.items() if col_name in i )  \n",
    "            \n",
    "            #now remove all keys that are part of col_name\n",
    "            keys_to_remove = [i for i in feature_dict.keys() if col_name in i ]\n",
    "            for i in keys_to_remove:\n",
    "                feature_dict.pop(i)\n",
    "            #lastly, read the summarized field\n",
    "            feature_dict[col_name] = sum_value\n",
    "    plt.figure(figsize=(14,8))\n",
    "    plt.xlabel('feature_importance')\n",
    "    results = pd.Series(feature_dict)\n",
    "    results.sort_values(inplace=True)\n",
    "    results.plot(kind=\"barh\", figsize=(width,len(results)/4), xlim=(0,x_scale))"
   ]
  },
  {
   "cell_type": "code",
   "execution_count": 43,
   "metadata": {},
   "outputs": [
    {
     "data": {
      "image/png": "[encoded data removed]",
      "text/plain": [
       "<matplotlib.figure.Figure at 0x13759e80>"
      ]
     },
     "metadata": {},
     "output_type": "display_data"
    }
   ],
   "source": [
    "graph_feature_importances(clf_D, cdf_no_ls.columns, summarized_columns=cat_variables)"
   ]
  },
  {
   "cell_type": "code",
   "execution_count": null,
   "metadata": {},
   "outputs": [],
   "source": []
  }
 ],
 "metadata": {
  "kernelspec": {
   "display_name": "Python 3",
   "language": "python",
   "name": "python3"
  },
  "language_info": {
   "codemirror_mode": {
    "name": "ipython",
    "version": 3
   },
   "file_extension": ".py",
   "mimetype": "text/x-python",
   "name": "python",
   "nbconvert_exporter": "python",
   "pygments_lexer": "ipython3",
   "version": "3.6.4"
  }
 },
 "nbformat": 4,
 "nbformat_minor": 2
}
