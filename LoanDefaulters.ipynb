{
 "cells": [
  {
   "cell_type": "code",
   "execution_count": 1,
   "metadata": {},
   "outputs": [],
   "source": [
    "import numpy as np\n",
    "import pandas as pd\n",
    "import seaborn as sns"
   ]
  },
  {
   "cell_type": "code",
   "execution_count": 261,
   "metadata": {},
   "outputs": [],
   "source": [
    "import h2o\n",
    "import os"
   ]
  },
  {
   "cell_type": "code",
   "execution_count": 262,
   "metadata": {},
   "outputs": [],
   "source": [
    "h2o.cluster().shutdown()"
   ]
  },
  {
   "cell_type": "code",
   "execution_count": 175,
   "metadata": {},
   "outputs": [
    {
     "name": "stdout",
     "output_type": "stream",
     "text": [
      "Checking whether there is an H2O instance running at http://localhost:54321..... not found.\n",
      "Attempting to start a local H2O server...\n",
      "; Java HotSpot(TM) 64-Bit Server VM (build 25.121-b13, mixed mode)\n",
      "  Starting server from D:\\ProgramData\\Anaconda3\\lib\\site-packages\\h2o\\backend\\bin\\h2o.jar\n",
      "  Ice root: C:\\Users\\ARYAN~1.SIN\\AppData\\Local\\Temp\\tmpyvr0_pss\n",
      "  JVM stdout: C:\\Users\\ARYAN~1.SIN\\AppData\\Local\\Temp\\tmpyvr0_pss\\h2o_aryan_singh_started_from_python.out\n",
      "  JVM stderr: C:\\Users\\ARYAN~1.SIN\\AppData\\Local\\Temp\\tmpyvr0_pss\\h2o_aryan_singh_started_from_python.err\n",
      "  Server is running at http://127.0.0.1:54339\n",
      "Connecting to H2O server at http://127.0.0.1:54339... successful.\n"
     ]
    },
    {
     "data": {
      "text/html": [
       "<div style=\"overflow:auto\"><table style=\"width:50%\"><tr><td>H2O cluster uptime:</td>\n",
       "<td>06 secs</td></tr>\n",
       "<tr><td>H2O cluster timezone:</td>\n",
       "<td>Asia/Kolkata</td></tr>\n",
       "<tr><td>H2O data parsing timezone:</td>\n",
       "<td>UTC</td></tr>\n",
       "<tr><td>H2O cluster version:</td>\n",
       "<td>3.18.0.9</td></tr>\n",
       "<tr><td>H2O cluster version age:</td>\n",
       "<td>7 days, 22 hours and 38 minutes </td></tr>\n",
       "<tr><td>H2O cluster name:</td>\n",
       "<td>H2O_from_python_aryan_singh_wckbpx</td></tr>\n",
       "<tr><td>H2O cluster total nodes:</td>\n",
       "<td>1</td></tr>\n",
       "<tr><td>H2O cluster free memory:</td>\n",
       "<td>1.778 Gb</td></tr>\n",
       "<tr><td>H2O cluster total cores:</td>\n",
       "<td>4</td></tr>\n",
       "<tr><td>H2O cluster allowed cores:</td>\n",
       "<td>4</td></tr>\n",
       "<tr><td>H2O cluster status:</td>\n",
       "<td>accepting new members, healthy</td></tr>\n",
       "<tr><td>H2O connection url:</td>\n",
       "<td>http://127.0.0.1:54339</td></tr>\n",
       "<tr><td>H2O connection proxy:</td>\n",
       "<td>None</td></tr>\n",
       "<tr><td>H2O internal security:</td>\n",
       "<td>False</td></tr>\n",
       "<tr><td>H2O API Extensions:</td>\n",
       "<td>Algos, AutoML, Core V3, Core V4</td></tr>\n",
       "<tr><td>Python version:</td>\n",
       "<td>3.6.4 final</td></tr></table></div>"
      ],
      "text/plain": [
       "--------------------------  ----------------------------------\n",
       "H2O cluster uptime:         06 secs\n",
       "H2O cluster timezone:       Asia/Kolkata\n",
       "H2O data parsing timezone:  UTC\n",
       "H2O cluster version:        3.18.0.9\n",
       "H2O cluster version age:    7 days, 22 hours and 38 minutes\n",
       "H2O cluster name:           H2O_from_python_aryan_singh_wckbpx\n",
       "H2O cluster total nodes:    1\n",
       "H2O cluster free memory:    1.778 Gb\n",
       "H2O cluster total cores:    4\n",
       "H2O cluster allowed cores:  4\n",
       "H2O cluster status:         accepting new members, healthy\n",
       "H2O connection url:         http://127.0.0.1:54339\n",
       "H2O connection proxy:\n",
       "H2O internal security:      False\n",
       "H2O API Extensions:         Algos, AutoML, Core V3, Core V4\n",
       "Python version:             3.6.4 final\n",
       "--------------------------  ----------------------------------"
      ]
     },
     "metadata": {},
     "output_type": "display_data"
    }
   ],
   "source": [
    "h2o.init(max_mem_size = \"2G\")             #specify max number of bytes. uses all cores by default.\n",
    "h2o.remove_all() "
   ]
  },
  {
   "cell_type": "code",
   "execution_count": 176,
   "metadata": {},
   "outputs": [],
   "source": [
    "h2o.remove_all() "
   ]
  },
  {
   "cell_type": "code",
   "execution_count": 177,
   "metadata": {},
   "outputs": [],
   "source": [
    "from h2o.estimators.random_forest import H2ORandomForestEstimator"
   ]
  },
  {
   "cell_type": "code",
   "execution_count": 188,
   "metadata": {},
   "outputs": [
    {
     "name": "stdout",
     "output_type": "stream",
     "text": [
      "Parse progress: |█████████████████████████████████████████████████████████| 100%\n"
     ]
    }
   ],
   "source": [
    "#cdf = pd.read_csv('D:/upgrad/EDA/eda-case-study/loan.csv', low_memory=False)\n",
    "cdf = h2o.import_file(os.path.realpath(\"loan.csv\"))\n",
    "#cdf = pd.read_csv('D:/upgrad/EDA/eda-case-study/loan.csv', low_memory=False)"
   ]
  },
  {
   "cell_type": "code",
   "execution_count": 189,
   "metadata": {},
   "outputs": [],
   "source": [
    "mask = cdf[\"loan_status\"] != 'Current'\n",
    "cdf = cdf[mask,:]"
   ]
  },
  {
   "cell_type": "code",
   "execution_count": 190,
   "metadata": {},
   "outputs": [],
   "source": [
    "mask = cdf.filter_na_cols(frac=0.01)\n",
    "cdf = cdf[:,mask]"
   ]
  },
  {
   "cell_type": "code",
   "execution_count": 191,
   "metadata": {},
   "outputs": [
    {
     "data": {
      "text/plain": [
       "224.0"
      ]
     },
     "execution_count": 191,
     "metadata": {},
     "output_type": "execute_result"
    }
   ],
   "source": [
    "cdf.isna().sum()"
   ]
  },
  {
   "cell_type": "code",
   "execution_count": 193,
   "metadata": {},
   "outputs": [],
   "source": [
    "train, valid, test = cdf.split_frame([0.6, 0.2], seed=1234)"
   ]
  },
  {
   "cell_type": "code",
   "execution_count": 194,
   "metadata": {},
   "outputs": [],
   "source": [
    "cdf_headers = cdf.col_names     #last column is Cover_Type, our desired response variable "
   ]
  },
  {
   "cell_type": "code",
   "execution_count": 195,
   "metadata": {},
   "outputs": [
    {
     "data": {
      "text/plain": [
       "list"
      ]
     },
     "execution_count": 195,
     "metadata": {},
     "output_type": "execute_result"
    }
   ],
   "source": [
    "type(cdf_headers)"
   ]
  },
  {
   "cell_type": "code",
   "execution_count": 196,
   "metadata": {},
   "outputs": [],
   "source": [
    "cdf_x=cdf_headers.remove('loan_status')"
   ]
  },
  {
   "cell_type": "code",
   "execution_count": 197,
   "metadata": {},
   "outputs": [],
   "source": [
    "cdf_y='loan_status'"
   ]
  },
  {
   "cell_type": "code",
   "execution_count": 198,
   "metadata": {},
   "outputs": [],
   "source": [
    "rf_v1 = H2ORandomForestEstimator(\n",
    "    model_id=\"rf_covType_v1\",\n",
    "    ntrees=200,\n",
    "    stopping_rounds=2,\n",
    "    score_each_iteration=True,\n",
    "    seed=1000000)"
   ]
  },
  {
   "cell_type": "code",
   "execution_count": 199,
   "metadata": {},
   "outputs": [
    {
     "name": "stdout",
     "output_type": "stream",
     "text": [
      "drf Model Build progress: |███████████████████████████████████████████████| 100%\n"
     ]
    }
   ],
   "source": [
    "rf_v1.train(cdf_x, cdf_y, training_frame=train, validation_frame=valid)"
   ]
  },
  {
   "cell_type": "code",
   "execution_count": 200,
   "metadata": {},
   "outputs": [
    {
     "name": "stdout",
     "output_type": "stream",
     "text": [
      "Model Details\n",
      "=============\n",
      "H2ORandomForestEstimator :  Distributed Random Forest\n",
      "Model Key:  rf_covType_v1\n",
      "\n",
      "\n",
      "ModelMetricsMultinomial: drf\n",
      "** Reported on train data. **\n",
      "\n",
      "MSE: 0.0092885690320231\n",
      "RMSE: 0.09637722257890138\n",
      "LogLoss: 0.07975614251356966\n",
      "Mean Per-Class Error: 0.021186021186021184\n",
      "Confusion Matrix: Row labels: Actual class; Column labels: Predicted class\n",
      "\n"
     ]
    },
    {
     "data": {
      "text/html": [
       "<div style=\"overflow:auto\"><table style=\"width:50%\"><tr><td><b>Charged Off</b></td>\n",
       "<td><b>Current</b></td>\n",
       "<td><b>Fully Paid</b></td>\n",
       "<td><b>Error</b></td>\n",
       "<td><b>Rate</b></td></tr>\n",
       "<tr><td>3153.0</td>\n",
       "<td>0.0</td>\n",
       "<td>214.0</td>\n",
       "<td>0.0635581</td>\n",
       "<td>214 / 3,367</td></tr>\n",
       "<tr><td>0.0</td>\n",
       "<td>0.0</td>\n",
       "<td>0.0</td>\n",
       "<td>nan</td>\n",
       "<td>0 / 0</td></tr>\n",
       "<tr><td>0.0</td>\n",
       "<td>0.0</td>\n",
       "<td>19858.0</td>\n",
       "<td>0.0</td>\n",
       "<td>0 / 19,858</td></tr>\n",
       "<tr><td>3153.0</td>\n",
       "<td>0.0</td>\n",
       "<td>20072.0</td>\n",
       "<td>0.0092142</td>\n",
       "<td>214 / 23,225</td></tr></table></div>"
      ],
      "text/plain": [
       "Charged Off    Current    Fully Paid    Error       Rate\n",
       "-------------  ---------  ------------  ----------  ------------\n",
       "3153           0          214           0.0635581   214 / 3,367\n",
       "0              0          0             nan         0 / 0\n",
       "0              0          19858         0           0 / 19,858\n",
       "3153           0          20072         0.00921421  214 / 23,225"
      ]
     },
     "metadata": {},
     "output_type": "display_data"
    },
    {
     "name": "stdout",
     "output_type": "stream",
     "text": [
      "Top-3 Hit Ratios: \n"
     ]
    },
    {
     "data": {
      "text/html": [
       "<div style=\"overflow:auto\"><table style=\"width:50%\"><tr><td><b>k</b></td>\n",
       "<td><b>hit_ratio</b></td></tr>\n",
       "<tr><td>1</td>\n",
       "<td>0.9907858</td></tr>\n",
       "<tr><td>2</td>\n",
       "<td>0.9987082</td></tr>\n",
       "<tr><td>3</td>\n",
       "<td>0.9999999</td></tr></table></div>"
      ],
      "text/plain": [
       "k    hit_ratio\n",
       "---  -----------\n",
       "1    0.990786\n",
       "2    0.998708\n",
       "3    1"
      ]
     },
     "metadata": {},
     "output_type": "display_data"
    },
    {
     "name": "stdout",
     "output_type": "stream",
     "text": [
      "\n",
      "ModelMetricsMultinomial: drf\n",
      "** Reported on validation data. **\n",
      "\n",
      "MSE: 0.009511906806791261\n",
      "RMSE: 0.09752900495130287\n",
      "LogLoss: 0.05410583973701903\n",
      "Mean Per-Class Error: 0.02464788732394366\n",
      "Confusion Matrix: Row labels: Actual class; Column labels: Predicted class\n",
      "\n"
     ]
    },
    {
     "data": {
      "text/html": [
       "<div style=\"overflow:auto\"><table style=\"width:50%\"><tr><td><b>Charged Off</b></td>\n",
       "<td><b>Current</b></td>\n",
       "<td><b>Fully Paid</b></td>\n",
       "<td><b>Error</b></td>\n",
       "<td><b>Rate</b></td></tr>\n",
       "<tr><td>1052.0</td>\n",
       "<td>0.0</td>\n",
       "<td>84.0</td>\n",
       "<td>0.0739437</td>\n",
       "<td>84 / 1,136</td></tr>\n",
       "<tr><td>0.0</td>\n",
       "<td>0.0</td>\n",
       "<td>0.0</td>\n",
       "<td>nan</td>\n",
       "<td>0 / 0</td></tr>\n",
       "<tr><td>0.0</td>\n",
       "<td>0.0</td>\n",
       "<td>6607.0</td>\n",
       "<td>0.0</td>\n",
       "<td>0 / 6,607</td></tr>\n",
       "<tr><td>1052.0</td>\n",
       "<td>0.0</td>\n",
       "<td>6691.0</td>\n",
       "<td>0.0108485</td>\n",
       "<td>84 / 7,743</td></tr></table></div>"
      ],
      "text/plain": [
       "Charged Off    Current    Fully Paid    Error      Rate\n",
       "-------------  ---------  ------------  ---------  ----------\n",
       "1052           0          84            0.0739437  84 / 1,136\n",
       "0              0          0             nan        0 / 0\n",
       "0              0          6607          0          0 / 6,607\n",
       "1052           0          6691          0.0108485  84 / 7,743"
      ]
     },
     "metadata": {},
     "output_type": "display_data"
    },
    {
     "name": "stdout",
     "output_type": "stream",
     "text": [
      "Top-3 Hit Ratios: \n"
     ]
    },
    {
     "data": {
      "text/html": [
       "<div style=\"overflow:auto\"><table style=\"width:50%\"><tr><td><b>k</b></td>\n",
       "<td><b>hit_ratio</b></td></tr>\n",
       "<tr><td>1</td>\n",
       "<td>0.9891515</td></tr>\n",
       "<tr><td>2</td>\n",
       "<td>0.9996125</td></tr>\n",
       "<tr><td>3</td>\n",
       "<td>0.9999999</td></tr></table></div>"
      ],
      "text/plain": [
       "k    hit_ratio\n",
       "---  -----------\n",
       "1    0.989151\n",
       "2    0.999613\n",
       "3    1"
      ]
     },
     "metadata": {},
     "output_type": "display_data"
    },
    {
     "name": "stdout",
     "output_type": "stream",
     "text": [
      "Scoring History: \n"
     ]
    },
    {
     "data": {
      "text/html": [
       "<div style=\"overflow:auto\"><table style=\"width:50%\"><tr><td><b></b></td>\n",
       "<td><b>timestamp</b></td>\n",
       "<td><b>duration</b></td>\n",
       "<td><b>number_of_trees</b></td>\n",
       "<td><b>training_rmse</b></td>\n",
       "<td><b>training_logloss</b></td>\n",
       "<td><b>training_classification_error</b></td>\n",
       "<td><b>validation_rmse</b></td>\n",
       "<td><b>validation_logloss</b></td>\n",
       "<td><b>validation_classification_error</b></td></tr>\n",
       "<tr><td></td>\n",
       "<td>2018-05-19 08:41:30</td>\n",
       "<td> 0.111 sec</td>\n",
       "<td>0.0</td>\n",
       "<td>nan</td>\n",
       "<td>nan</td>\n",
       "<td>nan</td>\n",
       "<td>nan</td>\n",
       "<td>nan</td>\n",
       "<td>nan</td></tr>\n",
       "<tr><td></td>\n",
       "<td>2018-05-19 08:41:31</td>\n",
       "<td> 1.536 sec</td>\n",
       "<td>1.0</td>\n",
       "<td>0.2300049</td>\n",
       "<td>1.5549183</td>\n",
       "<td>0.0440950</td>\n",
       "<td>0.2290562</td>\n",
       "<td>1.5362394</td>\n",
       "<td>0.0445564</td></tr>\n",
       "<tr><td></td>\n",
       "<td>2018-05-19 08:41:32</td>\n",
       "<td> 2.207 sec</td>\n",
       "<td>2.0</td>\n",
       "<td>0.2304593</td>\n",
       "<td>1.5287616</td>\n",
       "<td>0.0456835</td>\n",
       "<td>0.1691345</td>\n",
       "<td>0.5846603</td>\n",
       "<td>0.0302208</td></tr>\n",
       "<tr><td></td>\n",
       "<td>2018-05-19 08:41:32</td>\n",
       "<td> 2.635 sec</td>\n",
       "<td>3.0</td>\n",
       "<td>0.2158956</td>\n",
       "<td>1.2846803</td>\n",
       "<td>0.0402137</td>\n",
       "<td>0.1471281</td>\n",
       "<td>0.2779913</td>\n",
       "<td>0.0263464</td></tr>\n",
       "<tr><td></td>\n",
       "<td>2018-05-19 08:41:33</td>\n",
       "<td> 3.076 sec</td>\n",
       "<td>4.0</td>\n",
       "<td>0.1880391</td>\n",
       "<td>0.9313189</td>\n",
       "<td>0.0318242</td>\n",
       "<td>0.1312820</td>\n",
       "<td>0.1858211</td>\n",
       "<td>0.0192432</td></tr>\n",
       "<tr><td>---</td>\n",
       "<td>---</td>\n",
       "<td>---</td>\n",
       "<td>---</td>\n",
       "<td>---</td>\n",
       "<td>---</td>\n",
       "<td>---</td>\n",
       "<td>---</td>\n",
       "<td>---</td>\n",
       "<td>---</td></tr>\n",
       "<tr><td></td>\n",
       "<td>2018-05-19 08:41:38</td>\n",
       "<td> 7.966 sec</td>\n",
       "<td>20.0</td>\n",
       "<td>0.0989468</td>\n",
       "<td>0.0922753</td>\n",
       "<td>0.0096448</td>\n",
       "<td>0.0990208</td>\n",
       "<td>0.0548071</td>\n",
       "<td>0.0116234</td></tr>\n",
       "<tr><td></td>\n",
       "<td>2018-05-19 08:41:38</td>\n",
       "<td> 8.216 sec</td>\n",
       "<td>21.0</td>\n",
       "<td>0.0970738</td>\n",
       "<td>0.0858940</td>\n",
       "<td>0.0091712</td>\n",
       "<td>0.0977008</td>\n",
       "<td>0.0537668</td>\n",
       "<td>0.0109777</td></tr>\n",
       "<tr><td></td>\n",
       "<td>2018-05-19 08:41:38</td>\n",
       "<td> 8.550 sec</td>\n",
       "<td>22.0</td>\n",
       "<td>0.0969730</td>\n",
       "<td>0.0837239</td>\n",
       "<td>0.0089989</td>\n",
       "<td>0.0977711</td>\n",
       "<td>0.0541934</td>\n",
       "<td>0.0113651</td></tr>\n",
       "<tr><td></td>\n",
       "<td>2018-05-19 08:41:39</td>\n",
       "<td> 8.883 sec</td>\n",
       "<td>23.0</td>\n",
       "<td>0.0965647</td>\n",
       "<td>0.0836295</td>\n",
       "<td>0.0090850</td>\n",
       "<td>0.0977845</td>\n",
       "<td>0.0541253</td>\n",
       "<td>0.0113651</td></tr>\n",
       "<tr><td></td>\n",
       "<td>2018-05-19 08:41:39</td>\n",
       "<td> 9.166 sec</td>\n",
       "<td>24.0</td>\n",
       "<td>0.0963772</td>\n",
       "<td>0.0797561</td>\n",
       "<td>0.0092142</td>\n",
       "<td>0.0975290</td>\n",
       "<td>0.0541058</td>\n",
       "<td>0.0108485</td></tr></table></div>"
      ],
      "text/plain": [
       "     timestamp            duration    number_of_trees    training_rmse        training_logloss     training_classification_error    validation_rmse      validation_logloss    validation_classification_error\n",
       "---  -------------------  ----------  -----------------  -------------------  -------------------  -------------------------------  -------------------  --------------------  ---------------------------------\n",
       "     2018-05-19 08:41:30  0.111 sec   0.0                nan                  nan                  nan                              nan                  nan                   nan\n",
       "     2018-05-19 08:41:31  1.536 sec   1.0                0.23000485713709531  1.5549182918139117   0.04409504669582693              0.22905620305071828  1.5362394148838099    0.044556373498643935\n",
       "     2018-05-19 08:41:32  2.207 sec   2.0                0.230459347372518    1.5287616279957033   0.04568345323741007              0.16913451237171057  0.5846603302230157    0.030220844633862844\n",
       "     2018-05-19 08:41:32  2.635 sec   3.0                0.2158955998684908   1.2846802845296732   0.040213707129315795             0.14712812260243213  0.27799125175686706   0.0263463773731112\n",
       "     2018-05-19 08:41:33  3.076 sec   4.0                0.18803906968761597  0.9313189248560086   0.03182418028626535              0.1312820197957708   0.18582110709040192   0.019243187395066513\n",
       "---  ---                  ---         ---                ---                  ---                  ---                              ---                  ---                   ---\n",
       "     2018-05-19 08:41:38  7.966 sec   20.0               0.09894681099155259  0.09227526078493117  0.009644779332615715             0.09902075513497875  0.05480709931607127   0.01162340178225494\n",
       "     2018-05-19 08:41:38  8.216 sec   21.0               0.09707383942471254  0.08589399448601294  0.009171151776103337             0.09770076875628501  0.05376683593351494   0.010977657238796332\n",
       "     2018-05-19 08:41:38  8.550 sec   22.0               0.09697302760928232  0.08372391079699674  0.008998923573735199             0.0977711127868067   0.05419340303212978   0.011365103964871497\n",
       "     2018-05-19 08:41:39  8.883 sec   23.0               0.09656467611526227  0.08362945972464512  0.009085037674919269             0.09778445864699879  0.05412534038591682   0.011365103964871497\n",
       "     2018-05-19 08:41:39  9.166 sec   24.0               0.09637722257890138  0.07975614251356966  0.009214208826695372             0.09752900495130287  0.05410583973701903   0.01084850833010461"
      ]
     },
     "metadata": {},
     "output_type": "display_data"
    },
    {
     "name": "stdout",
     "output_type": "stream",
     "text": [
      "\n",
      "See the whole table with table.as_data_frame()\n",
      "Variable Importances: \n"
     ]
    },
    {
     "data": {
      "text/html": [
       "<div style=\"overflow:auto\"><table style=\"width:50%\"><tr><td><b>variable</b></td>\n",
       "<td><b>relative_importance</b></td>\n",
       "<td><b>scaled_importance</b></td>\n",
       "<td><b>percentage</b></td></tr>\n",
       "<tr><td>recoveries</td>\n",
       "<td>38872.7460938</td>\n",
       "<td>1.0</td>\n",
       "<td>0.3920038</td></tr>\n",
       "<tr><td>total_rec_prncp</td>\n",
       "<td>10603.7509766</td>\n",
       "<td>0.2727811</td>\n",
       "<td>0.1069312</td></tr>\n",
       "<tr><td>collection_recovery_fee</td>\n",
       "<td>6816.0004883</td>\n",
       "<td>0.1753414</td>\n",
       "<td>0.0687345</td></tr>\n",
       "<tr><td>zip_code</td>\n",
       "<td>5592.4321289</td>\n",
       "<td>0.1438651</td>\n",
       "<td>0.0563957</td></tr>\n",
       "<tr><td>last_pymnt_amnt</td>\n",
       "<td>4516.3593750</td>\n",
       "<td>0.1161832</td>\n",
       "<td>0.0455443</td></tr>\n",
       "<tr><td>---</td>\n",
       "<td>---</td>\n",
       "<td>---</td>\n",
       "<td>---</td></tr>\n",
       "<tr><td>verification_status</td>\n",
       "<td>70.6177216</td>\n",
       "<td>0.0018166</td>\n",
       "<td>0.0007121</td></tr>\n",
       "<tr><td>home_ownership</td>\n",
       "<td>51.3254776</td>\n",
       "<td>0.0013203</td>\n",
       "<td>0.0005176</td></tr>\n",
       "<tr><td>delinq_2yrs</td>\n",
       "<td>34.8711014</td>\n",
       "<td>0.0008971</td>\n",
       "<td>0.0003517</td></tr>\n",
       "<tr><td>annual_inc</td>\n",
       "<td>27.4418831</td>\n",
       "<td>0.0007059</td>\n",
       "<td>0.0002767</td></tr>\n",
       "<tr><td>pub_rec</td>\n",
       "<td>23.2659836</td>\n",
       "<td>0.0005985</td>\n",
       "<td>0.0002346</td></tr></table></div>"
      ],
      "text/plain": [
       "variable                 relative_importance    scaled_importance      percentage\n",
       "-----------------------  ---------------------  ---------------------  ----------------------\n",
       "recoveries               38872.74609375         1.0                    0.3920038068599422\n",
       "total_rec_prncp          10603.7509765625       0.2727811138165868     0.10693123505559722\n",
       "collection_recovery_fee  6816.00048828125       0.17534136826461905    0.06873448385976172\n",
       "zip_code                 5592.43212890625       0.1438651160743544     0.05639567317549438\n",
       "last_pymnt_amnt          4516.359375            0.1161831830482937     0.04554425004803663\n",
       "---                      ---                    ---                    ---\n",
       "verification_status      70.61772155761719      0.001816638356017024   0.0007121291512464604\n",
       "home_ownership           51.325477600097656     0.001320346071674875   0.0005175806864691211\n",
       "delinq_2yrs              34.87110137939453      0.0008970578331485859  0.0003516500855677765\n",
       "annual_inc               27.441883087158203     0.0007059414588559344  0.00027673173929178757\n",
       "pub_rec                  23.26598358154297      0.0005985165937449347  0.0002346207832168599"
      ]
     },
     "metadata": {},
     "output_type": "display_data"
    },
    {
     "name": "stdout",
     "output_type": "stream",
     "text": [
      "\n",
      "See the whole table with table.as_data_frame()\n"
     ]
    },
    {
     "data": {
      "text/plain": []
     },
     "execution_count": 200,
     "metadata": {},
     "output_type": "execute_result"
    }
   ],
   "source": [
    "rf_v1"
   ]
  },
  {
   "cell_type": "code",
   "execution_count": 201,
   "metadata": {},
   "outputs": [
    {
     "ename": "TypeError",
     "evalue": "confusion_matrix() missing 1 required positional argument: 'data'",
     "output_type": "error",
     "traceback": [
      "\u001b[1;31m---------------------------------------------------------------------------\u001b[0m",
      "\u001b[1;31mTypeError\u001b[0m                                 Traceback (most recent call last)",
      "\u001b[1;32m<ipython-input-201-5e1e53c8e9c9>\u001b[0m in \u001b[0;36m<module>\u001b[1;34m()\u001b[0m\n\u001b[1;32m----> 1\u001b[1;33m \u001b[0mrf_v1\u001b[0m\u001b[1;33m.\u001b[0m\u001b[0mconfusion_matrix\u001b[0m\u001b[1;33m(\u001b[0m\u001b[1;33m)\u001b[0m\u001b[1;33m\u001b[0m\u001b[0m\n\u001b[0m",
      "\u001b[1;31mTypeError\u001b[0m: confusion_matrix() missing 1 required positional argument: 'data'"
     ]
    }
   ],
   "source": [
    "rf_v1.confusion_matrix()"
   ]
  },
  {
   "cell_type": "code",
   "execution_count": 2,
   "metadata": {},
   "outputs": [],
   "source": [
    "cdf = pd.read_csv('/loan.csv',low_memory=False)"
   ]
  },
  {
   "cell_type": "code",
   "execution_count": 3,
   "metadata": {},
   "outputs": [],
   "source": [
    "cdf.dropna(axis='columns',how='all',inplace=True)"
   ]
  },
  {
   "cell_type": "code",
   "execution_count": 4,
   "metadata": {},
   "outputs": [],
   "source": [
    "cdf.drop(['desc','mths_since_last_delinq','mths_since_last_record', 'next_pymnt_d', 'collections_12_mths_ex_med', 'chargeoff_within_12_mths','tax_liens'],axis='columns',inplace=True)"
   ]
  },
  {
   "cell_type": "code",
   "execution_count": 5,
   "metadata": {},
   "outputs": [],
   "source": [
    "cdf = cdf.dropna(axis=0, subset=['revol_util','last_pymnt_d','last_credit_pull_d'])"
   ]
  },
  {
   "cell_type": "code",
   "execution_count": 6,
   "metadata": {},
   "outputs": [],
   "source": [
    "cdf['pub_rec_bankruptcies'].fillna(0, inplace=True)"
   ]
  },
  {
   "cell_type": "code",
   "execution_count": 7,
   "metadata": {},
   "outputs": [],
   "source": [
    "cdf = cdf.apply(lambda x:x.fillna(x.value_counts().index[0]))"
   ]
  },
  {
   "cell_type": "code",
   "execution_count": 8,
   "metadata": {},
   "outputs": [
    {
     "data": {
      "text/plain": [
       "id                         0.0\n",
       "member_id                  0.0\n",
       "loan_amnt                  0.0\n",
       "funded_amnt                0.0\n",
       "funded_amnt_inv            0.0\n",
       "term                       0.0\n",
       "int_rate                   0.0\n",
       "installment                0.0\n",
       "grade                      0.0\n",
       "sub_grade                  0.0\n",
       "emp_title                  0.0\n",
       "emp_length                 0.0\n",
       "home_ownership             0.0\n",
       "annual_inc                 0.0\n",
       "verification_status        0.0\n",
       "issue_d                    0.0\n",
       "loan_status                0.0\n",
       "pymnt_plan                 0.0\n",
       "url                        0.0\n",
       "purpose                    0.0\n",
       "title                      0.0\n",
       "zip_code                   0.0\n",
       "addr_state                 0.0\n",
       "dti                        0.0\n",
       "delinq_2yrs                0.0\n",
       "earliest_cr_line           0.0\n",
       "inq_last_6mths             0.0\n",
       "open_acc                   0.0\n",
       "pub_rec                    0.0\n",
       "revol_bal                  0.0\n",
       "revol_util                 0.0\n",
       "total_acc                  0.0\n",
       "initial_list_status        0.0\n",
       "out_prncp                  0.0\n",
       "out_prncp_inv              0.0\n",
       "total_pymnt                0.0\n",
       "total_pymnt_inv            0.0\n",
       "total_rec_prncp            0.0\n",
       "total_rec_int              0.0\n",
       "total_rec_late_fee         0.0\n",
       "recoveries                 0.0\n",
       "collection_recovery_fee    0.0\n",
       "last_pymnt_d               0.0\n",
       "last_pymnt_amnt            0.0\n",
       "last_credit_pull_d         0.0\n",
       "policy_code                0.0\n",
       "application_type           0.0\n",
       "acc_now_delinq             0.0\n",
       "delinq_amnt                0.0\n",
       "pub_rec_bankruptcies       0.0\n",
       "dtype: float64"
      ]
     },
     "execution_count": 8,
     "metadata": {},
     "output_type": "execute_result"
    }
   ],
   "source": [
    "round(100*(cdf.isnull().sum()/len(cdf.index)), 2)"
   ]
  },
  {
   "cell_type": "code",
   "execution_count": 10,
   "metadata": {},
   "outputs": [],
   "source": [
    "cdf.drop(['last_credit_pull_d','last_credit_pull_d','recoveries','collection_recovery_fee','issue_d','id','member_id'],axis='columns',inplace=True)"
   ]
  },
  {
   "cell_type": "code",
   "execution_count": 11,
   "metadata": {},
   "outputs": [],
   "source": [
    "cdf_final = cdf[(cdf.loan_status=='Fully Paid') | (cdf.loan_status=='Charged Off')]"
   ]
  },
  {
   "cell_type": "code",
   "execution_count": 12,
   "metadata": {},
   "outputs": [
    {
     "data": {
      "text/plain": [
       "loan_status\n",
       "Charged Off     5543\n",
       "Fully Paid     32915\n",
       "Name: id, dtype: int64"
      ]
     },
     "execution_count": 12,
     "metadata": {},
     "output_type": "execute_result"
    }
   ],
   "source": [
    "cdf_final.groupby('loan_status')['id'].count()"
   ]
  },
  {
   "cell_type": "code",
   "execution_count": 13,
   "metadata": {},
   "outputs": [
    {
     "name": "stderr",
     "output_type": "stream",
     "text": [
      "D:\\ProgramData\\Anaconda3\\lib\\site-packages\\ipykernel_launcher.py:1: SettingWithCopyWarning: \n",
      "A value is trying to be set on a copy of a slice from a DataFrame.\n",
      "Try using .loc[row_indexer,col_indexer] = value instead\n",
      "\n",
      "See the caveats in the documentation: http://pandas.pydata.org/pandas-docs/stable/indexing.html#indexing-view-versus-copy\n",
      "  \"\"\"Entry point for launching an IPython kernel.\n"
     ]
    }
   ],
   "source": [
    "cdf_final['int_rate'] = cdf_final['int_rate'].apply(lambda x: float(x[:-1]))"
   ]
  },
  {
   "cell_type": "code",
   "execution_count": 14,
   "metadata": {},
   "outputs": [
    {
     "name": "stderr",
     "output_type": "stream",
     "text": [
      "D:\\ProgramData\\Anaconda3\\lib\\site-packages\\ipykernel_launcher.py:1: SettingWithCopyWarning: \n",
      "A value is trying to be set on a copy of a slice from a DataFrame\n",
      "\n",
      "See the caveats in the documentation: http://pandas.pydata.org/pandas-docs/stable/indexing.html#indexing-view-versus-copy\n",
      "  \"\"\"Entry point for launching an IPython kernel.\n"
     ]
    }
   ],
   "source": [
    "cdf_final.drop(['funded_amnt','funded_amnt_inv','url','last_pymnt_d','zip_code'],axis='columns',inplace=True)"
   ]
  },
  {
   "cell_type": "markdown",
   "metadata": {},
   "source": [
    "Use one-hot encoding to convert numerical columns with categorical data"
   ]
  },
  {
   "cell_type": "code",
   "execution_count": 15,
   "metadata": {},
   "outputs": [
    {
     "data": {
      "text/plain": [
       "['term',\n",
       " 'grade',\n",
       " 'addr_state',\n",
       " 'emp_title',\n",
       " 'revol_util',\n",
       " 'verification_status',\n",
       " 'purpose',\n",
       " 'initial_list_status',\n",
       " 'sub_grade',\n",
       " 'home_ownership',\n",
       " 'title',\n",
       " 'application_type',\n",
       " 'earliest_cr_line',\n",
       " 'emp_length',\n",
       " 'pymnt_plan']"
      ]
     },
     "execution_count": 15,
     "metadata": {},
     "output_type": "execute_result"
    }
   ],
   "source": [
    "cols = cdf_final.columns\n",
    "num_cols = cdf_final._get_numeric_data().columns\n",
    "cat_variables = list(set(cols) - set(num_cols))\n",
    "cat_variables.remove('loan_status')\n",
    "cat_variables"
   ]
  },
  {
   "cell_type": "code",
   "execution_count": 16,
   "metadata": {},
   "outputs": [],
   "source": [
    "for variable in cat_variables:\n",
    "    dummies = pd.get_dummies(cdf_final[variable], prefix=variable)\n",
    "    cdf_final = pd.concat([cdf_final, dummies], axis=1)\n",
    "    cdf_final.drop([variable], axis=1, inplace=True)"
   ]
  },
  {
   "cell_type": "code",
   "execution_count": 17,
   "metadata": {},
   "outputs": [
    {
     "data": {
      "text/plain": [
       "0     Fully Paid\n",
       "1    Charged Off\n",
       "2     Fully Paid\n",
       "3     Fully Paid\n",
       "5     Fully Paid\n",
       "Name: loan_status, dtype: object"
      ]
     },
     "execution_count": 17,
     "metadata": {},
     "output_type": "execute_result"
    }
   ],
   "source": [
    "cdf_final['loan_status'].head()"
   ]
  },
  {
   "cell_type": "code",
   "execution_count": 18,
   "metadata": {},
   "outputs": [],
   "source": [
    "ind_headers = list(cdf_final.columns.values)"
   ]
  },
  {
   "cell_type": "code",
   "execution_count": 19,
   "metadata": {},
   "outputs": [],
   "source": [
    "ind_headers.remove('loan_status')"
   ]
  },
  {
   "cell_type": "markdown",
   "metadata": {},
   "source": [
    "Now we will build a random forrest classifier to predict whether a prospective customer is likely to default on his/her loan or not."
   ]
  },
  {
   "cell_type": "code",
   "execution_count": 20,
   "metadata": {},
   "outputs": [],
   "source": [
    "from sklearn.model_selection import train_test_split\n",
    "from sklearn.ensemble import RandomForestClassifier\n",
    "from sklearn.metrics import accuracy_score\n",
    "from sklearn.metrics import confusion_matrix"
   ]
  },
  {
   "cell_type": "code",
   "execution_count": 21,
   "metadata": {},
   "outputs": [
    {
     "name": "stderr",
     "output_type": "stream",
     "text": [
      "D:\\ProgramData\\Anaconda3\\lib\\site-packages\\sklearn\\model_selection\\_split.py:2026: FutureWarning: From version 0.21, test_size will always complement train_size unless both are specified.\n",
      "  FutureWarning)\n"
     ]
    }
   ],
   "source": [
    " # Split dataset into train and test dataset\n",
    "train_x, test_x, train_y, test_y = train_test_split(cdf_final[ind_headers], cdf_final['loan_status'],\n",
    "                                                    train_size=0.7)"
   ]
  },
  {
   "cell_type": "code",
   "execution_count": 22,
   "metadata": {},
   "outputs": [
    {
     "name": "stdout",
     "output_type": "stream",
     "text": [
      "Train_x Shape ::  (26920, 48944)\n",
      "Train_y Shape ::  (26920,)\n",
      "Test_x Shape ::  (11538, 48944)\n",
      "Test_y Shape ::  (11538,)\n"
     ]
    }
   ],
   "source": [
    "    # Train and Test dataset size details\n",
    "    print(\"Train_x Shape :: \", train_x.shape)\n",
    "    print(\"Train_y Shape :: \", train_y.shape)\n",
    "    print(\"Test_x Shape :: \", test_x.shape)\n",
    "    print(\"Test_y Shape :: \", test_y.shape)"
   ]
  },
  {
   "cell_type": "code",
   "execution_count": 23,
   "metadata": {},
   "outputs": [],
   "source": [
    "clf = RandomForestClassifier()\n",
    "trained_model = clf.fit(train_x, train_y)"
   ]
  },
  {
   "cell_type": "code",
   "execution_count": 24,
   "metadata": {},
   "outputs": [
    {
     "name": "stdout",
     "output_type": "stream",
     "text": [
      "RandomForestClassifier(bootstrap=True, class_weight=None, criterion='gini',\n",
      "            max_depth=None, max_features='auto', max_leaf_nodes=None,\n",
      "            min_impurity_decrease=0.0, min_impurity_split=None,\n",
      "            min_samples_leaf=1, min_samples_split=2,\n",
      "            min_weight_fraction_leaf=0.0, n_estimators=10, n_jobs=1,\n",
      "            oob_score=False, random_state=None, verbose=0,\n",
      "            warm_start=False)\n"
     ]
    }
   ],
   "source": [
    "print(trained_model)"
   ]
  },
  {
   "cell_type": "code",
   "execution_count": 25,
   "metadata": {},
   "outputs": [],
   "source": [
    "predictions = trained_model.predict(test_x)"
   ]
  },
  {
   "cell_type": "code",
   "execution_count": 26,
   "metadata": {},
   "outputs": [
    {
     "name": "stdout",
     "output_type": "stream",
     "text": [
      "Actual outcome :: Fully Paid and Predicted outcome :: Fully Paid\n",
      "Actual outcome :: Fully Paid and Predicted outcome :: Fully Paid\n",
      "Actual outcome :: Fully Paid and Predicted outcome :: Fully Paid\n",
      "Actual outcome :: Fully Paid and Predicted outcome :: Fully Paid\n",
      "Actual outcome :: Fully Paid and Predicted outcome :: Fully Paid\n"
     ]
    }
   ],
   "source": [
    "for i in range(0, 5):\n",
    "    print(\"Actual outcome :: {} and Predicted outcome :: {}\".format(list(test_y)[i], predictions[i]))"
   ]
  },
  {
   "cell_type": "markdown",
   "metadata": {},
   "source": [
    "Now doing the accuracy calculations"
   ]
  },
  {
   "cell_type": "code",
   "execution_count": 27,
   "metadata": {},
   "outputs": [
    {
     "name": "stdout",
     "output_type": "stream",
     "text": [
      "Train Accuracy ::  0.9978454680534918\n",
      "Test Accuracy  ::  0.9365574622984919\n"
     ]
    }
   ],
   "source": [
    "print(\"Train Accuracy :: \", accuracy_score(train_y, trained_model.predict(train_x)))\n",
    "print(\"Test Accuracy  :: \", accuracy_score(test_y, predictions))"
   ]
  },
  {
   "cell_type": "markdown",
   "metadata": {},
   "source": [
    "Now printing the confusion matrix for more details"
   ]
  },
  {
   "cell_type": "code",
   "execution_count": 28,
   "metadata": {},
   "outputs": [
    {
     "name": "stdout",
     "output_type": "stream",
     "text": [
      " Confusion matrix  [[1018  677]\n",
      " [  55 9788]]\n"
     ]
    }
   ],
   "source": [
    "print(\" Confusion matrix \", confusion_matrix(test_y, predictions))"
   ]
  },
  {
   "cell_type": "markdown",
   "metadata": {},
   "source": [
    "# Checking Parameter Importance from model"
   ]
  },
  {
   "cell_type": "code",
   "execution_count": 29,
   "metadata": {},
   "outputs": [
    {
     "data": {
      "text/plain": [
       "array([0.01228449, 0.0138185 , 0.01827838, ..., 0.000921  , 0.0015409 ,\n",
       "       0.        ])"
      ]
     },
     "execution_count": 29,
     "metadata": {},
     "output_type": "execute_result"
    }
   ],
   "source": [
    "trained_model.feature_importances_"
   ]
  },
  {
   "cell_type": "code",
   "execution_count": 30,
   "metadata": {},
   "outputs": [],
   "source": [
    "cdf_no_ls = cdf_final.loc[:, cdf_final.columns != 'loan_status']"
   ]
  },
  {
   "cell_type": "code",
   "execution_count": 31,
   "metadata": {},
   "outputs": [],
   "source": [
    "feature_importances  = pd.Series(trained_model.feature_importances_, index=cdf_no_ls.columns)"
   ]
  },
  {
   "cell_type": "code",
   "execution_count": 32,
   "metadata": {},
   "outputs": [],
   "source": [
    "def graph_feature_importances(model, feature_names, autoscale=True, headroom=0.05, width=10, summarized_columns=None):\n",
    "    \"\"\"\n",
    "    \n",
    "    Graphs the feature importances of a random decision forest using a horizontal bar chart. \n",
    "    Probably works but untested on other sklearn.ensembles.\n",
    "    \n",
    "    Parameters\n",
    "    ----------\n",
    "    ensemble = Name of the ensemble whose features you would like graphed.\n",
    "    feature_names = A list of the names of those featurs, displayed on the Y axis.\n",
    "    autoscale = True (Automatically adjust the X axis size to the largest feature +.headroom) / False = scale from 0 to 1\n",
    "    headroom = used with autoscale, .05 default\n",
    "    width=figure width in inches\n",
    "    summarized_columns = a list of column prefixes to summarize on, for dummy variables (e.g. [\"day_\"] would summarize all day_ vars\n",
    "    \"\"\"\n",
    "    \n",
    "    if autoscale:\n",
    "        x_scale = model.feature_importances_.max()+ headroom\n",
    "    else:\n",
    "        x_scale = 1\n",
    "    \n",
    "    feature_dict=dict(zip(feature_names, model.feature_importances_))\n",
    "    \n",
    "    if summarized_columns: \n",
    "        #some dummy columns need to be summarized\n",
    "        for col_name in summarized_columns: \n",
    "            #sum all the features that contain col_name, store in temp sum_value\n",
    "            sum_value = sum(x for i, x in feature_dict.items() if col_name in i )  \n",
    "            \n",
    "            #now remove all keys that are part of col_name\n",
    "            keys_to_remove = [i for i in feature_dict.keys() if col_name in i ]\n",
    "            for i in keys_to_remove:\n",
    "                feature_dict.pop(i)\n",
    "            #lastly, read the summarized field\n",
    "            feature_dict[col_name] = sum_value\n",
    "        \n",
    "    results = pd.Series(feature_dict)\n",
    "    results.sort_values(inplace=True)\n",
    "    results.plot(kind=\"barh\", figsize=(width,len(results)/4), xlim=(0,x_scale))"
   ]
  },
  {
   "cell_type": "code",
   "execution_count": 33,
   "metadata": {},
   "outputs": [
    {
     "data": {
      "image/png": "[encoded data removed]",
      "text/plain": [
       "<matplotlib.figure.Figure at 0xf5f1cf8>"
      ]
     },
     "metadata": {},
     "output_type": "display_data"
    }
   ],
   "source": [
    "graph_feature_importances(trained_model, cdf_no_ls.columns, summarized_columns=cat_variables)"
   ]
  },
  {
   "cell_type": "code",
   "execution_count": null,
   "metadata": {},
   "outputs": [],
   "source": []
  }
 ],
 "metadata": {
  "kernelspec": {
   "display_name": "Python 3",
   "language": "python",
   "name": "python3"
  },
  "language_info": {
   "codemirror_mode": {
    "name": "ipython",
    "version": 3
   },
   "file_extension": ".py",
   "mimetype": "text/x-python",
   "name": "python",
   "nbconvert_exporter": "python",
   "pygments_lexer": "ipython3",
   "version": "3.6.4"
  }
 },
 "nbformat": 4,
 "nbformat_minor": 2
}
